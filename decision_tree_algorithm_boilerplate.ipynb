{
 "cells": [
  {
   "cell_type": "markdown",
   "metadata": {},
   "source": [
    "## Imports and Configurations"
   ]
  },
  {
   "cell_type": "code",
   "execution_count": 1,
   "metadata": {},
   "outputs": [],
   "source": [
    "import numpy as np\n",
    "import pandas as pd\n",
    "from typing import List, Any, Tuple\n",
    "import matplotlib.pyplot as plt"
   ]
  },
  {
   "cell_type": "code",
   "execution_count": 2,
   "metadata": {},
   "outputs": [],
   "source": [
    "np.random.seed(4)"
   ]
  },
  {
   "cell_type": "markdown",
   "metadata": {},
   "source": [
    "## Dataset"
   ]
  },
  {
   "cell_type": "code",
   "execution_count": 3,
   "metadata": {},
   "outputs": [],
   "source": [
    "data = pd.read_csv('titanic.train.real_valued.csv')\n",
    "data.drop(\"PassengerId\", axis=1, inplace=True)"
   ]
  },
  {
   "cell_type": "markdown",
   "metadata": {},
   "source": [
    "* PassengerId: Passenger ID.\n",
    "* Pclass: Ticket class. A proxy for socio-economic status (SES). 1 = 1st class (upper), 2 = 2nd class\n",
    "(middle), 3 = 3rd class (lower)\n",
    "* Sex: Sex.0 = male, 1 = female\n",
    "* Age: Age in years. Age is fractional if less than 1.\n",
    "* SibSp: # of siblings / spouses aboard the Titanic. The dataset defines family relations in this\n",
    "way... Sibling = brother, sister, stepbrother, stepsister. Spouse = husband, wife (mistresses and\n",
    "fiancés were ignored)\n",
    "* Parch: # of parents / children aboard the Titanic. The dataset defines family relations in this\n",
    "way... Parent = mother, father. Child = daughter, son, stepdaughter, stepson. Some children\n",
    "travelled only with a nanny, therefore parch=0 for them.\n",
    "* Ticket: Ticket number.\n",
    "* Fare: Passenger fare.\n",
    "* Embarked: Port of Embarkation. 0 = Cherbourg, 1 = Queenstown, 2 = Southampton,\n",
    "* Survived: Target variable (class label). 0 = Not Survived, 1 = Survived."
   ]
  },
  {
   "cell_type": "code",
   "execution_count": 4,
   "metadata": {},
   "outputs": [],
   "source": [
    "# Count the occurrence of each ticket\n",
    "ticket_counts = data['Ticket'].value_counts()\n",
    "\n",
    "# Tickets appearing more than once are marked as 1, others as 0\n",
    "data['Common_ticket'] = data['Ticket'].map(lambda x: 1 if ticket_counts[x] > 1 else 0)\n",
    "data.drop(\"Ticket\", axis=1, inplace=True)"
   ]
  },
  {
   "cell_type": "code",
   "execution_count": 5,
   "metadata": {},
   "outputs": [
    {
     "data": {
      "text/plain": [
       "Pclass             int64\n",
       "Sex                int64\n",
       "Age              float64\n",
       "SibSp              int64\n",
       "Parch              int64\n",
       "Fare             float64\n",
       "Embarked           int64\n",
       "Survived           int64\n",
       "Common_ticket      int64\n",
       "dtype: object"
      ]
     },
     "execution_count": 5,
     "metadata": {},
     "output_type": "execute_result"
    }
   ],
   "source": [
    "data.dtypes"
   ]
  },
  {
   "cell_type": "code",
   "execution_count": 6,
   "metadata": {},
   "outputs": [
    {
     "data": {
      "text/plain": [
       "Pclass             3\n",
       "Sex                2\n",
       "Age               76\n",
       "SibSp              6\n",
       "Parch              7\n",
       "Fare             220\n",
       "Embarked           3\n",
       "Survived           2\n",
       "Common_ticket      2\n",
       "dtype: int64"
      ]
     },
     "execution_count": 6,
     "metadata": {},
     "output_type": "execute_result"
    }
   ],
   "source": [
    "data.nunique()"
   ]
  },
  {
   "cell_type": "markdown",
   "metadata": {},
   "source": [
    "## Utils"
   ]
  },
  {
   "cell_type": "code",
   "execution_count": 7,
   "metadata": {},
   "outputs": [],
   "source": [
    "def accuracy(y_true: List[Any], y_pred: List[Any]) -> float:\n",
    "    return np.mean(np.array(y_true) == np.array(y_pred))"
   ]
  },
  {
   "cell_type": "code",
   "execution_count": 8,
   "metadata": {},
   "outputs": [],
   "source": [
    "def train_test_split(data: pd.DataFrame, test_size: float) -> Tuple[pd.DataFrame, pd.DataFrame]:\n",
    "    test = data.sample(frac=test_size)\n",
    "    train = data.drop(test.index)\n",
    "    return train.reset_index(drop=True), test.reset_index(drop=True)"
   ]
  },
  {
   "cell_type": "markdown",
   "metadata": {},
   "source": [
    "## Decision Tree"
   ]
  },
  {
   "cell_type": "code",
   "execution_count": 9,
   "metadata": {},
   "outputs": [],
   "source": [
    "class Node:\n",
    "    def __init__(self, data: pd.DataFrame = None, depth: int = 0, \n",
    "                 split_attribute: str = None, split_value: Any = None, \n",
    "                 is_greater_split: bool = False) -> None:\n",
    "        self.data = data\n",
    "        self.depth = depth\n",
    "        self.split_attribute = split_attribute\n",
    "        self.split_value = split_value\n",
    "        self.is_greater_split = is_greater_split\n",
    "        self.children: List[Node] = []\n",
    "        self.is_leaf: bool = False\n",
    "        self._prediction = None\n",
    "\n",
    "    def add_child(self, child: 'Node') -> None:\n",
    "        self.children.append(child)\n",
    "        self.is_leaf = False\n",
    "\n",
    "    def remove_child(self, child: 'Node') -> None:\n",
    "        self.children.remove(child)\n",
    "        if not self.children:\n",
    "            self.is_leaf = True\n",
    "\n",
    "    @property\n",
    "    def prediction(self) -> Any:\n",
    "        return self._prediction\n",
    "    \n",
    "    @prediction.setter\n",
    "    def prediction(self, value: Any) -> None:\n",
    "        if self.is_leaf:\n",
    "            self._prediction = value\n",
    "        else:\n",
    "            raise ValueError('Cannot set prediction for non-leaf node')"
   ]
  },
  {
   "cell_type": "code",
   "execution_count": 10,
   "metadata": {},
   "outputs": [],
   "source": [
    "class DecisionTree:\n",
    "    def __init__(self, max_depth: int = 8) -> None:\n",
    "        self.root: 'Node' = None\n",
    "        self.max_depth: int = max_depth\n",
    "\n",
    "    @property\n",
    "    def max_depth(self) -> int:\n",
    "        return self._max_depth\n",
    "\n",
    "    @max_depth.setter\n",
    "    def max_depth(self, value: Any) -> None:\n",
    "        if isinstance(value, int):\n",
    "            if value < 1:\n",
    "                raise ValueError('max_depth must be at least 1')\n",
    "            if value >= 1000:\n",
    "                self._max_depth = 1000  # Limit due to Python's recursion limit\n",
    "            else:\n",
    "                self._max_depth = value\n",
    "        elif value == 'unlimited':\n",
    "            self._max_depth = 1000  # Limit due to Python's recursion limit\n",
    "        else:\n",
    "            raise ValueError('max_depth must be an integer or \"unlimited\"')\n",
    "\n",
    "    @staticmethod\n",
    "    def impurity(data: pd.DataFrame, target: str) -> float:\n",
    "        entropy = 0\n",
    "        for value in data[target].unique():\n",
    "            p = len(data[data[target] == value]) / len(data)\n",
    "            entropy -= p * np.log2(p)\n",
    "        return entropy\n",
    "\n",
    "    @staticmethod\n",
    "    def information_gain(data: pd.DataFrame, attribute: str, target: str) -> float:\n",
    "        gain = DecisionTree.impurity(data, target)\n",
    "        for value in data[attribute].unique():\n",
    "            subset = data[data[attribute] == value]\n",
    "            gain -= len(subset) / len(data) * DecisionTree.impurity(subset, target)\n",
    "        return gain\n",
    "\n",
    "    @staticmethod\n",
    "    def find_best_threshold(data: pd.DataFrame, attribute: str, target: str) -> tuple:\n",
    "        best_gain = -float('inf')\n",
    "        best_threshold = None\n",
    "        sorted_values = sorted(data[attribute].unique())\n",
    "        for i in range(len(sorted_values) - 1):\n",
    "            threshold = (sorted_values[i] + sorted_values[i + 1]) / 2\n",
    "            subset_less = data[data[attribute] <= threshold]\n",
    "            subset_greater = data[data[attribute] > threshold]\n",
    "            gain = DecisionTree.impurity(data, target) - (len(subset_less) / len(data) * DecisionTree.impurity(subset_less, target) + len(subset_greater) / len(data) * DecisionTree.impurity(subset_greater, target))\n",
    "            if gain > best_gain:\n",
    "                best_gain = gain\n",
    "                best_threshold = threshold\n",
    "        return best_gain, best_threshold\n",
    "\n",
    "    def fit(self, data: pd.DataFrame, target: str, data_valid: pd.DataFrame = None, verbose: bool = False, early_stopping: bool = False) -> None:\n",
    "        if early_stopping and data_valid is None:\n",
    "            raise ValueError(\"Validation data must be provided for early stopping.\")\n",
    "\n",
    "        self.best_tree = None\n",
    "        self.best_accuracy = 0\n",
    "        self.no_improvement_steps = 0\n",
    "        self.early_stopping = early_stopping\n",
    "\n",
    "        try:\n",
    "            self.root = self._build_tree(data, target, 0, data_valid, verbose, early_stopping)\n",
    "        except StopIteration:\n",
    "            if verbose:\n",
    "                print(\"Early stopping triggered, ending fitting process.\")\n",
    "                \n",
    "            self.root = self.best_tree\n",
    "\n",
    "\n",
    "    def _build_tree(self, data: pd.DataFrame, target: str, depth: int, data_valid=None, verbose=False, early_stopping=False) -> Node:\n",
    "        if len(data[target].unique()) == 1 or depth == self.max_depth:\n",
    "            leaf = Node(data, depth)\n",
    "            leaf.is_leaf = True\n",
    "            leaf.prediction = data[target].mode()[0]  # Most common target value\n",
    "            if verbose:\n",
    "                print(f\"Depth {depth}: Leaf node with prediction {leaf.prediction}\")\n",
    "            \n",
    "            # Early Stopping Check at this leaf\n",
    "            if early_stopping and data_valid is not None:\n",
    "                self._check_early_stopping(data_valid, target, leaf, depth, verbose)\n",
    "\n",
    "            return leaf\n",
    "        \n",
    "        best_gain = -float('inf')\n",
    "        best_attribute = None\n",
    "        best_threshold = None\n",
    "\n",
    "        for attribute in data.columns:\n",
    "            if attribute != target:\n",
    "                if data[attribute].dtype == 'float64':\n",
    "                    gain, threshold = self.find_best_threshold(data, attribute, target)\n",
    "                    if verbose:\n",
    "                        print(f\"Depth {depth}: Checking attribute '{attribute}' with threshold {threshold}, Information Gain: {gain}\")\n",
    "                    if gain > best_gain:\n",
    "                        best_gain = gain\n",
    "                        best_attribute = attribute\n",
    "                        best_threshold = threshold\n",
    "                elif data[attribute].dtype == 'int64':\n",
    "                    gain = self.information_gain(data, attribute, target)\n",
    "                    if verbose:\n",
    "                        print(f\"Depth {depth}: Checking attribute '{attribute}', Information Gain: {gain}\")\n",
    "                    if gain > best_gain:\n",
    "                        best_gain = gain\n",
    "                        best_attribute = attribute\n",
    "                        best_threshold = None\n",
    "        \n",
    "        if best_gain == -float('inf'):\n",
    "            leaf = Node(data, depth)\n",
    "            leaf.is_leaf = True\n",
    "            leaf.prediction = data[target].mode()[0]\n",
    "            if verbose:\n",
    "                print(f\"Depth {depth}: Leaf node with prediction {leaf.prediction}\")\n",
    "                \n",
    "            return leaf\n",
    "\n",
    "        if data[best_attribute].dtype == 'float64':\n",
    "            root = Node(data, depth, best_attribute, best_threshold)\n",
    "            left_data = data[data[best_attribute] <= best_threshold]\n",
    "            right_data = data[data[best_attribute] > best_threshold]\n",
    "\n",
    "            if verbose:\n",
    "                print(f\"Depth {depth}: Creating left child node with threshold <= {best_threshold}\")\n",
    "            root.add_child(self._build_tree(left_data, target, depth + 1, data_valid, verbose, early_stopping))\n",
    "            if verbose:\n",
    "                print(f\"Depth {depth}: Creating right child node with threshold > {best_threshold}\")\n",
    "            root.add_child(self._build_tree(right_data, target, depth + 1, data_valid, verbose, early_stopping))\n",
    "        elif data[best_attribute].dtype == 'int64':\n",
    "            root = Node(data, depth, split_attribute=best_attribute)\n",
    "            for value in data[best_attribute].unique():\n",
    "                subset = data[data[best_attribute] == value]\n",
    "                if verbose:\n",
    "                    print(f\"Depth {depth}: Creating child node for {best_attribute} == {value}\")\n",
    "                root.add_child(self._build_tree(subset, target, depth + 1, data_valid, verbose, early_stopping))\n",
    "\n",
    "        # Early Stopping Check after building children\n",
    "        if early_stopping and data_valid is not None:\n",
    "            self._check_early_stopping(data_valid, target, root, depth, verbose)\n",
    "        \n",
    "        return root\n",
    "    \n",
    "    def _check_early_stopping(self, data_valid, target, current_tree, depth, verbose): # TODO: Early stopping do not always work, try to debug it\n",
    "        current_accuracy = accuracy(data_valid[target], self.predict(data_valid, current_tree))\n",
    "        if current_accuracy > self.best_accuracy:\n",
    "            self.best_accuracy = current_accuracy\n",
    "            self.best_tree = current_tree\n",
    "            self.no_improvement_steps = 0\n",
    "        else:\n",
    "            self.no_improvement_steps += 1\n",
    "            if self.no_improvement_steps >= 5:\n",
    "                if verbose:\n",
    "                    print(f\"Depth {depth}: Early stopping triggered. No improvement for 5 steps.\")\n",
    "                raise StopIteration\n",
    "            \n",
    "    def predict(self, data: pd.DataFrame, altenative_node: 'Node' = None) -> list:\n",
    "        predictions = []\n",
    "\n",
    "        for instance in data.to_dict(orient='records'):\n",
    "            node = self.root if altenative_node is None else altenative_node\n",
    "            while not node.is_leaf:\n",
    "                split_value = instance[node.split_attribute]\n",
    "\n",
    "                if node.data[node.split_attribute].dtype == 'float64':\n",
    "                    if split_value <= node.split_value:\n",
    "                        node = node.children[0]  # Go to left child\n",
    "                    else:\n",
    "                        node = node.children[1]  # Go to right child\n",
    "                elif node.data[node.split_attribute].dtype == 'int64':\n",
    "                    child_found = False\n",
    "                    for child in node.children:\n",
    "                        if child.data[node.split_attribute].values[0] == split_value:\n",
    "                            node = child\n",
    "                            child_found = True\n",
    "                            break\n",
    "                    if not child_found:\n",
    "                        # TODO: Handle unseen values\n",
    "                        break\n",
    "\n",
    "            predictions.append(node.prediction)\n",
    "\n",
    "        return predictions\n",
    "    \n",
    "    def print_tree(self, node=None, indent=\"\"):\n",
    "        if node is None:\n",
    "            node = self.root\n",
    "\n",
    "        if node.is_leaf:\n",
    "            print(indent + \"Leaf Node: Predicts \" + str(node.prediction))\n",
    "        else:\n",
    "            if node.split_value is not None:\n",
    "                print(indent + f\"Node: {node.split_attribute} <= {node.split_value}\")\n",
    "                self.print_tree(node.children[0], indent + \"\\t\")\n",
    "                print(indent + f\"Node: {node.split_attribute} > {node.split_value}\")\n",
    "                self.print_tree(node.children[1], indent + \"\\t\")\n",
    "            else:\n",
    "                for child in node.children:\n",
    "                    print(indent + f\"Node: {node.split_attribute} == {child.data[node.split_attribute].values[0]}\")\n",
    "                    self.print_tree(child, indent + \"\\t\")\n",
    "\n",
    "    def __repr__(self) -> str:\n",
    "        return 'DecisionTree with max depth ' + str(self.max_depth)"
   ]
  },
  {
   "cell_type": "markdown",
   "metadata": {},
   "source": [
    "## Evaluation"
   ]
  },
  {
   "cell_type": "markdown",
   "metadata": {},
   "source": [
    "#### Display tree"
   ]
  },
  {
   "cell_type": "code",
   "execution_count": 11,
   "metadata": {},
   "outputs": [],
   "source": [
    "train, test = train_test_split(data, 0.2)"
   ]
  },
  {
   "cell_type": "code",
   "execution_count": 12,
   "metadata": {},
   "outputs": [
    {
     "name": "stdout",
     "output_type": "stream",
     "text": [
      "Depth 0: Checking attribute 'Pclass', Information Gain: 0.10026109974769273\n",
      "Depth 0: Checking attribute 'Sex', Information Gain: 0.20891544634353543\n",
      "Depth 0: Checking attribute 'Age' with threshold 8.5, Information Gain: 0.019630443987942003\n",
      "Depth 0: Checking attribute 'SibSp', Information Gain: 0.017839411856530797\n",
      "Depth 0: Checking attribute 'Parch', Information Gain: 0.03501296371086839\n",
      "Depth 0: Checking attribute 'Fare' with threshold 15.64585, Information Gain: 0.0713816550658688\n",
      "Depth 0: Checking attribute 'Embarked', Information Gain: 0.0314825472531568\n",
      "Depth 0: Checking attribute 'Common_ticket', Information Gain: 0.024519492215460903\n",
      "Depth 0: Creating child node for Sex == 0\n",
      "Depth 1: Checking attribute 'Pclass', Information Gain: 0.05202457989176831\n",
      "Depth 1: Checking attribute 'Sex', Information Gain: 0.0\n",
      "Depth 1: Checking attribute 'Age' with threshold 13.0, Information Gain: 0.05517160504648033\n",
      "Depth 1: Checking attribute 'SibSp', Information Gain: 0.016805925193863452\n",
      "Depth 1: Checking attribute 'Parch', Information Gain: 0.02752125341224254\n",
      "Depth 1: Checking attribute 'Fare' with threshold 26.26875, Information Gain: 0.04430216419504429\n",
      "Depth 1: Checking attribute 'Embarked', Information Gain: 0.030416038557708802\n",
      "Depth 1: Checking attribute 'Common_ticket', Information Gain: 0.013353900908005811\n",
      "Depth 1: Creating left child node with threshold <= 13.0\n",
      "Depth 2: Checking attribute 'Pclass', Information Gain: 0.3261824119133103\n",
      "Depth 2: Checking attribute 'Sex', Information Gain: 0.0\n",
      "Depth 2: Checking attribute 'Age' with threshold 0.96, Information Gain: 0.12342197590885906\n",
      "Depth 2: Checking attribute 'SibSp', Information Gain: 0.8031277254073464\n",
      "Depth 2: Checking attribute 'Parch', Information Gain: 0.025352557869492254\n",
      "Depth 2: Checking attribute 'Fare' with threshold 20.825, Information Gain: 0.2862286076020333\n",
      "Depth 2: Checking attribute 'Embarked', Information Gain: 0.2134415763503138\n",
      "Depth 2: Checking attribute 'Common_ticket', Information Gain: 0.04590085321567616\n",
      "Depth 2: Creating child node for SibSp == 0\n",
      "Depth 3: Leaf node with prediction 1\n",
      "Depth 2: Creating child node for SibSp == 1\n",
      "Depth 3: Leaf node with prediction 1\n",
      "Depth 2: Creating child node for SibSp == 4\n",
      "Depth 3: Leaf node with prediction 0\n",
      "Depth 2: Creating child node for SibSp == 2\n",
      "Depth 3: Leaf node with prediction 1\n",
      "Depth 2: Creating child node for SibSp == 5\n",
      "Depth 3: Leaf node with prediction 0\n",
      "Depth 2: Creating child node for SibSp == 3\n",
      "Depth 3: Leaf node with prediction 0\n",
      "Depth 1: Creating right child node with threshold > 13.0\n",
      "Depth 2: Checking attribute 'Pclass', Information Gain: 0.08041710557046772\n",
      "Depth 2: Checking attribute 'Sex', Information Gain: 0.0\n",
      "Depth 2: Checking attribute 'Age' with threshold 77.0, Information Gain: 0.007593025573635392\n",
      "Depth 2: Checking attribute 'SibSp', Information Gain: 0.0018459813248129266\n",
      "Depth 2: Checking attribute 'Parch', Information Gain: 0.004107794381289276\n",
      "Depth 2: Checking attribute 'Fare' with threshold 26.26875, Information Gain: 0.061310814778602896\n",
      "Depth 2: Checking attribute 'Embarked', Information Gain: 0.030508769545793124\n",
      "Depth 2: Checking attribute 'Common_ticket', Information Gain: 0.0015689913997590788\n",
      "Depth 2: Creating child node for Pclass == 3\n",
      "Depth 3: Leaf node with prediction 0\n",
      "Depth 2: Creating child node for Pclass == 2\n",
      "Depth 3: Leaf node with prediction 0\n",
      "Depth 2: Creating child node for Pclass == 1\n",
      "Depth 3: Leaf node with prediction 0\n",
      "Depth 0: Creating child node for Sex == 1\n",
      "Depth 1: Checking attribute 'Pclass', Information Gain: 0.21939162948770713\n",
      "Depth 1: Checking attribute 'Sex', Information Gain: 0.0\n",
      "Depth 1: Checking attribute 'Age' with threshold 48.5, Information Gain: 0.03304236848945341\n",
      "Depth 1: Checking attribute 'SibSp', Information Gain: 0.034298367351973266\n",
      "Depth 1: Checking attribute 'Parch', Information Gain: 0.04132711252539181\n",
      "Depth 1: Checking attribute 'Fare' with threshold 48.2021, Information Gain: 0.0948515284909659\n",
      "Depth 1: Checking attribute 'Embarked', Information Gain: 0.029749874503546776\n",
      "Depth 1: Checking attribute 'Common_ticket', Information Gain: 0.0005511547189822052\n",
      "Depth 1: Creating child node for Pclass == 3\n",
      "Depth 2: Checking attribute 'Pclass', Information Gain: 0.0\n",
      "Depth 2: Checking attribute 'Sex', Information Gain: 0.0\n",
      "Depth 2: Checking attribute 'Age' with threshold 38.5, Information Gain: 0.12159356951600042\n",
      "Depth 2: Checking attribute 'SibSp', Information Gain: 0.06066478401902026\n",
      "Depth 2: Checking attribute 'Parch', Information Gain: 0.04073826238198322\n",
      "Depth 2: Checking attribute 'Fare' with threshold 20.799999999999997, Information Gain: 0.11786988003249899\n",
      "Depth 2: Checking attribute 'Embarked', Information Gain: 0.02071691918278104\n",
      "Depth 2: Checking attribute 'Common_ticket', Information Gain: 0.02535162454757761\n",
      "Depth 2: Creating left child node with threshold <= 38.5\n",
      "Depth 3: Leaf node with prediction 1\n",
      "Depth 2: Creating right child node with threshold > 38.5\n",
      "Depth 3: Leaf node with prediction 0\n",
      "Depth 1: Creating child node for Pclass == 1\n",
      "Depth 2: Checking attribute 'Pclass', Information Gain: 0.0\n",
      "Depth 2: Checking attribute 'Sex', Information Gain: 0.0\n",
      "Depth 2: Checking attribute 'Age' with threshold 8.5, Information Gain: 0.08390627456691603\n",
      "Depth 2: Checking attribute 'SibSp', Information Gain: 0.04173753864606394\n",
      "Depth 2: Checking attribute 'Parch', Information Gain: 0.08716910334586432\n",
      "Depth 2: Checking attribute 'Fare' with threshold 149.0354, Information Gain: 0.06750200104709575\n",
      "Depth 2: Checking attribute 'Embarked', Information Gain: 0.028082661724768365\n",
      "Depth 2: Checking attribute 'Common_ticket', Information Gain: 0.01008025864237308\n",
      "Depth 2: Creating child node for Parch == 2\n",
      "Depth 3: Leaf node with prediction 1\n",
      "Depth 2: Creating child node for Parch == 1\n",
      "Depth 3: Leaf node with prediction 1\n",
      "Depth 2: Creating child node for Parch == 0\n",
      "Depth 3: Leaf node with prediction 1\n",
      "Depth 1: Creating child node for Pclass == 2\n",
      "Depth 2: Checking attribute 'Pclass', Information Gain: 0.0\n",
      "Depth 2: Checking attribute 'Sex', Information Gain: 0.0\n",
      "Depth 2: Checking attribute 'Age' with threshold 23.5, Information Gain: 0.04553071531261105\n",
      "Depth 2: Checking attribute 'SibSp', Information Gain: 0.01429809915567165\n",
      "Depth 2: Checking attribute 'Parch', Information Gain: 0.03417514475437011\n",
      "Depth 2: Checking attribute 'Fare' with threshold 26.125, Information Gain: 0.03618636105407291\n",
      "Depth 2: Checking attribute 'Embarked', Information Gain: 0.01678053730389556\n",
      "Depth 2: Checking attribute 'Common_ticket', Information Gain: 0.00118370749742297\n",
      "Depth 2: Creating left child node with threshold <= 23.5\n",
      "Depth 3: Leaf node with prediction 1\n",
      "Depth 2: Creating right child node with threshold > 23.5\n",
      "Depth 3: Leaf node with prediction 1\n"
     ]
    },
    {
     "data": {
      "text/plain": [
       "DecisionTree with max depth 3"
      ]
     },
     "execution_count": 12,
     "metadata": {},
     "output_type": "execute_result"
    }
   ],
   "source": [
    "dt = DecisionTree(max_depth=3)\n",
    "dt.fit(data=train, target='Survived', verbose=True)\n",
    "dt"
   ]
  },
  {
   "cell_type": "code",
   "execution_count": 13,
   "metadata": {},
   "outputs": [
    {
     "name": "stdout",
     "output_type": "stream",
     "text": [
      "Node: Sex == 0\n",
      "\tNode: Age <= 13.0\n",
      "\t\tNode: SibSp == 0\n",
      "\t\t\tLeaf Node: Predicts 1\n",
      "\t\tNode: SibSp == 1\n",
      "\t\t\tLeaf Node: Predicts 1\n",
      "\t\tNode: SibSp == 4\n",
      "\t\t\tLeaf Node: Predicts 0\n",
      "\t\tNode: SibSp == 2\n",
      "\t\t\tLeaf Node: Predicts 1\n",
      "\t\tNode: SibSp == 5\n",
      "\t\t\tLeaf Node: Predicts 0\n",
      "\t\tNode: SibSp == 3\n",
      "\t\t\tLeaf Node: Predicts 0\n",
      "\tNode: Age > 13.0\n",
      "\t\tNode: Pclass == 3\n",
      "\t\t\tLeaf Node: Predicts 0\n",
      "\t\tNode: Pclass == 2\n",
      "\t\t\tLeaf Node: Predicts 0\n",
      "\t\tNode: Pclass == 1\n",
      "\t\t\tLeaf Node: Predicts 0\n",
      "Node: Sex == 1\n",
      "\tNode: Pclass == 3\n",
      "\t\tNode: Age <= 38.5\n",
      "\t\t\tLeaf Node: Predicts 1\n",
      "\t\tNode: Age > 38.5\n",
      "\t\t\tLeaf Node: Predicts 0\n",
      "\tNode: Pclass == 1\n",
      "\t\tNode: Parch == 2\n",
      "\t\t\tLeaf Node: Predicts 1\n",
      "\t\tNode: Parch == 1\n",
      "\t\t\tLeaf Node: Predicts 1\n",
      "\t\tNode: Parch == 0\n",
      "\t\t\tLeaf Node: Predicts 1\n",
      "\tNode: Pclass == 2\n",
      "\t\tNode: Age <= 23.5\n",
      "\t\t\tLeaf Node: Predicts 1\n",
      "\t\tNode: Age > 23.5\n",
      "\t\t\tLeaf Node: Predicts 1\n"
     ]
    }
   ],
   "source": [
    "dt.print_tree()"
   ]
  },
  {
   "cell_type": "markdown",
   "metadata": {},
   "source": [
    "#### Performance without pruning"
   ]
  },
  {
   "cell_type": "code",
   "execution_count": 14,
   "metadata": {},
   "outputs": [
    {
     "data": {
      "text/plain": [
       "DecisionTree with max depth 1000"
      ]
     },
     "execution_count": 14,
     "metadata": {},
     "output_type": "execute_result"
    }
   ],
   "source": [
    "dt = DecisionTree(max_depth=\"unlimited\")\n",
    "dt.fit(data=train, target='Survived')\n",
    "dt"
   ]
  },
  {
   "cell_type": "code",
   "execution_count": 15,
   "metadata": {},
   "outputs": [
    {
     "data": {
      "text/plain": [
       "0.7552447552447552"
      ]
     },
     "execution_count": 15,
     "metadata": {},
     "output_type": "execute_result"
    }
   ],
   "source": [
    "y_pred_no_pruning = dt.predict(test)\n",
    "\n",
    "accuracy_no_pruning = accuracy(test['Survived'], y_pred_no_pruning)\n",
    "accuracy_no_pruning"
   ]
  },
  {
   "cell_type": "markdown",
   "metadata": {},
   "source": [
    "#### Performance with early stopping"
   ]
  },
  {
   "cell_type": "code",
   "execution_count": 16,
   "metadata": {},
   "outputs": [
    {
     "data": {
      "text/plain": [
       "DecisionTree with max depth 1000"
      ]
     },
     "execution_count": 16,
     "metadata": {},
     "output_type": "execute_result"
    }
   ],
   "source": [
    "dt = DecisionTree(max_depth=\"unlimited\")\n",
    "dt.fit(data=train, target='Survived', early_stopping=True, data_valid=test)\n",
    "dt"
   ]
  },
  {
   "cell_type": "code",
   "execution_count": 17,
   "metadata": {},
   "outputs": [
    {
     "data": {
      "text/plain": [
       "0.7552447552447552"
      ]
     },
     "execution_count": 17,
     "metadata": {},
     "output_type": "execute_result"
    }
   ],
   "source": [
    "y_pred_early_stopping = dt.predict(test)\n",
    "\n",
    "accuracy_early_stopping = accuracy(test['Survived'], y_pred_no_pruning)\n",
    "accuracy_early_stopping"
   ]
  },
  {
   "cell_type": "markdown",
   "metadata": {},
   "source": [
    "#### Performance for different max_depths"
   ]
  },
  {
   "cell_type": "code",
   "execution_count": 18,
   "metadata": {},
   "outputs": [],
   "source": [
    "# Initialize a dictionary to store accuracy scores for different max depths\n",
    "accuracy_scores_depth = {}\n",
    "\n",
    "# Loop over different values of max_depth\n",
    "for max_depth in range(1, 100, 2):  # Adjust the range as needed\n",
    "    # Train DecisionTree with varying max depth\n",
    "    dt = DecisionTree(max_depth=max_depth)\n",
    "    dt.fit(data=train, target='Survived')\n",
    "\n",
    "    # Predictions\n",
    "    y_pred = dt.predict(test)\n",
    "\n",
    "    # Accuracy\n",
    "    accuracy_score = accuracy(test['Survived'], y_pred)\n",
    "    \n",
    "    # Store the accuracy score\n",
    "    accuracy_scores_depth[max_depth] = accuracy_score"
   ]
  },
  {
   "cell_type": "code",
   "execution_count": 19,
   "metadata": {},
   "outputs": [
    {
     "data": {
      "image/png": "[encoded data removed]",
      "text/plain": [
       "<Figure size 1000x600 with 1 Axes>"
      ]
     },
     "metadata": {},
     "output_type": "display_data"
    }
   ],
   "source": [
    "# Plotting\n",
    "plt.figure(figsize=(10, 6))\n",
    "plt.plot(accuracy_scores_depth.keys(), accuracy_scores_depth.values())\n",
    "plt.title('Decision Tree Accuracy vs Max Depth')\n",
    "plt.xlabel('Max Depth')\n",
    "plt.ylabel('Accuracy')\n",
    "plt.grid(True)\n",
    "plt.show()"
   ]
  },
  {
   "cell_type": "markdown",
   "metadata": {},
   "source": [
    "### Interpretation of the Decision Tree Accuracy vs Max Depth Plot\n",
    "\n",
    "The plot showing Decision Tree Accuracy vs Max Depth suggests a complex relationship between the maximum depth of the decision tree and its accuracy. From the graph, we can observe a sharp increase in accuracy as the depth increases initially, which peaks quite early. This peak is typically where the model has learned enough patterns from the data to make good predictions. After reaching this peak, the accuracy sharply decreases, suggesting the model might be starting to overfit the training data. Overfitting is a modeling error that occurs when a model is too complex, capturing noise in the dataset rather than the underlying pattern.\n",
    "\n",
    "As the max depth increases beyond a certain point, the accuracy seems to level off. This plateau indicates that increasing the complexity of the model (by increasing `max_depth`) does not lead to further gains in accuracy on the test data. The model's performance does not significantly degrade, likely due to the simplicity of the data or the presence of mechanisms that prevent overfitting, such as pruning within the Decision Tree algorithm. \n",
    "\n",
    "Overall, the optimal `max_depth` appears to be at the early peak. It is the point of complexity where the model is sufficiently learned but not overfitted to the training data."
   ]
  },
  {
   "cell_type": "markdown",
   "metadata": {},
   "source": [
    "#### Performance for different train/test size"
   ]
  },
  {
   "cell_type": "code",
   "execution_count": 20,
   "metadata": {},
   "outputs": [],
   "source": [
    "# Initialize a dictionary to store accuracy scores\n",
    "accuracy_scores = {}\n",
    "\n",
    "# Test sizes from 0.1 to 0.9\n",
    "for test_size in [0.1, 0.2, 0.3, 0.4, 0.5, 0.6, 0.7, 0.8, 0.9]:\n",
    "    # Split data\n",
    "    train, test = train_test_split(data, test_size=test_size)\n",
    "\n",
    "    # Train DecisionTree\n",
    "    dt = DecisionTree(max_depth=3)\n",
    "    dt.fit(data=train, target='Survived')\n",
    "\n",
    "    # Predictions\n",
    "    y_pred = dt.predict(test)\n",
    "\n",
    "    # Accuracy\n",
    "    accuracy_score = accuracy(test['Survived'], y_pred)\n",
    "    \n",
    "    # Store the accuracy score\n",
    "    accuracy_scores[test_size] = accuracy_score"
   ]
  },
  {
   "cell_type": "code",
   "execution_count": 21,
   "metadata": {},
   "outputs": [
    {
     "data": {
      "image/png": "[encoded data removed]",
      "text/plain": [
       "<Figure size 1000x600 with 1 Axes>"
      ]
     },
     "metadata": {},
     "output_type": "display_data"
    }
   ],
   "source": [
    "# Plotting\n",
    "plt.figure(figsize=(10, 6))\n",
    "plt.plot(accuracy_scores.keys(), accuracy_scores.values(), marker='o')\n",
    "plt.title('Decision Tree Accuracy vs Test Size')\n",
    "plt.xlabel('Test Size')\n",
    "plt.ylabel('Accuracy')\n",
    "plt.grid(True)\n",
    "plt.show()"
   ]
  },
  {
   "cell_type": "markdown",
   "metadata": {},
   "source": [
    "### Interpretation of the Decision Tree Accuracy vs Test Size Plot\n",
    "\n",
    "The second plot illustrates the variation in accuracy of the Decision Tree model as the test size increases from 0.1 to 0.9. The accuracy shows a somewhat inverse-V-shaped relationship with the test size, initially increasing with the test size and then declining before slightly recovering towards the end.\n",
    "\n",
    "A possible explanation for the initial increase is that a smaller test set may not be representative of the overall data distribution, leading to higher variability in accuracy scores. As the test size increases, the test data becomes more representative, leading to a more accurate assessment of the model's performance.\n",
    "\n",
    "The subsequent decline in accuracy as the test size increases beyond a certain point might be due to the reduction in training data size. With less data to learn from, the model may not capture the complexity of the data well, leading to worse performance on the test set.\n",
    "\n",
    "The slight recovery in accuracy at high test sizes is somewhat counterintuitive, as we would typically expect the model's performance to continue declining as the test size approaches the size of the dataset. However, this could be due to random fluctuations in the data, specific characteristics of the test data, or randomness in the model training process.\n",
    "\n",
    "In practice, a test size between 0.2 and 0.3 is often a good balance between having a model trained on sufficient data and having a robust test set to evaluate the model."
   ]
  },
  {
   "cell_type": "markdown",
   "metadata": {},
   "source": []
  }
 ],
 "metadata": {
  "kernelspec": {
   "display_name": "Python 3",
   "language": "python",
   "name": "python3"
  },
  "language_info": {
   "codemirror_mode": {
    "name": "ipython",
    "version": 3
   },
   "file_extension": ".py",
   "mimetype": "text/x-python",
   "name": "python",
   "nbconvert_exporter": "python",
   "pygments_lexer": "ipython3",
   "version": "3.11.8"
  }
 },
 "nbformat": 4,
 "nbformat_minor": 2
}
