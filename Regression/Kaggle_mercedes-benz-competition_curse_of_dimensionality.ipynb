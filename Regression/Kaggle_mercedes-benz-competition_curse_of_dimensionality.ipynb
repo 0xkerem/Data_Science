{
 "cells": [
  {
   "cell_type": "code",
   "execution_count": 1,
   "id": "5798b398",
   "metadata": {
    "_cell_guid": "b1076dfc-b9ad-4769-8c92-a6c4dae69d19",
    "_uuid": "8f2839f25d086af736a60e9eeb907d3b93b6e0e5",
    "execution": {
     "iopub.execute_input": "2023-04-02T20:19:10.698227Z",
     "iopub.status.busy": "2023-04-02T20:19:10.697808Z",
     "iopub.status.idle": "2023-04-02T20:19:12.039164Z",
     "shell.execute_reply": "2023-04-02T20:19:12.037916Z"
    },
    "papermill": {
     "duration": 1.36069,
     "end_time": "2023-04-02T20:19:12.042357",
     "exception": false,
     "start_time": "2023-04-02T20:19:10.681667",
     "status": "completed"
    },
    "tags": []
   },
   "outputs": [],
   "source": [
    "# Import required libraries\n",
    "import warnings\n",
    "import numpy as np\n",
    "import pandas as pd\n",
    "import seaborn as sns\n",
    "import matplotlib.pyplot as plt\n",
    "\n",
    "# Filter warnings\n",
    "warnings.filterwarnings('ignore')\n",
    "\n",
    "# Set color palettes\n",
    "color_palette = sns.color_palette('flare')\n",
    "\n",
    "# Set default plotting style\n",
    "sns.set(style=\"ticks\", rc={\"axes.spines.top\": False, \"axes.spines.right\": False})"
   ]
  },
  {
   "cell_type": "markdown",
   "id": "b6586915",
   "metadata": {
    "papermill": {
     "duration": 0.013248,
     "end_time": "2023-04-02T20:19:12.068994",
     "exception": false,
     "start_time": "2023-04-02T20:19:12.055746",
     "status": "completed"
    },
    "tags": []
   },
   "source": [
    "# Exploring Data"
   ]
  },
  {
   "cell_type": "code",
   "execution_count": 2,
   "id": "bfab74ee",
   "metadata": {
    "execution": {
     "iopub.execute_input": "2023-04-02T20:19:12.098782Z",
     "iopub.status.busy": "2023-04-02T20:19:12.098018Z",
     "iopub.status.idle": "2023-04-02T20:19:12.439117Z",
     "shell.execute_reply": "2023-04-02T20:19:12.438008Z"
    },
    "papermill": {
     "duration": 0.359312,
     "end_time": "2023-04-02T20:19:12.442081",
     "exception": false,
     "start_time": "2023-04-02T20:19:12.082769",
     "status": "completed"
    },
    "tags": []
   },
   "outputs": [],
   "source": [
    "train = pd.read_csv('/kaggle/input/mercedes-benz-greener-manufacturing/train.csv.zip')\n",
    "test = pd.read_csv('/kaggle/input/mercedes-benz-greener-manufacturing/test.csv.zip')"
   ]
  },
  {
   "cell_type": "code",
   "execution_count": 3,
   "id": "53666dfc",
   "metadata": {
    "execution": {
     "iopub.execute_input": "2023-04-02T20:19:12.471878Z",
     "iopub.status.busy": "2023-04-02T20:19:12.471202Z",
     "iopub.status.idle": "2023-04-02T20:19:12.515339Z",
     "shell.execute_reply": "2023-04-02T20:19:12.513935Z"
    },
    "papermill": {
     "duration": 0.063231,
     "end_time": "2023-04-02T20:19:12.520037",
     "exception": false,
     "start_time": "2023-04-02T20:19:12.456806",
     "status": "completed"
    },
    "tags": []
   },
   "outputs": [
    {
     "name": "stdout",
     "output_type": "stream",
     "text": [
      "<class 'pandas.core.frame.DataFrame'>\n",
      "RangeIndex: 4209 entries, 0 to 4208\n",
      "Columns: 378 entries, ID to X385\n",
      "dtypes: float64(1), int64(369), object(8)\n",
      "memory usage: 12.1+ MB\n"
     ]
    }
   ],
   "source": [
    "train.info()"
   ]
  },
  {
   "cell_type": "code",
   "execution_count": 4,
   "id": "d92d5c8f",
   "metadata": {
    "execution": {
     "iopub.execute_input": "2023-04-02T20:19:12.551021Z",
     "iopub.status.busy": "2023-04-02T20:19:12.550598Z",
     "iopub.status.idle": "2023-04-02T20:19:12.581010Z",
     "shell.execute_reply": "2023-04-02T20:19:12.578980Z"
    },
    "papermill": {
     "duration": 0.049982,
     "end_time": "2023-04-02T20:19:12.585175",
     "exception": false,
     "start_time": "2023-04-02T20:19:12.535193",
     "status": "completed"
    },
    "tags": []
   },
   "outputs": [
    {
     "name": "stdout",
     "output_type": "stream",
     "text": [
      "<class 'pandas.core.frame.DataFrame'>\n",
      "RangeIndex: 4209 entries, 0 to 4208\n",
      "Columns: 377 entries, ID to X385\n",
      "dtypes: int64(369), object(8)\n",
      "memory usage: 12.1+ MB\n"
     ]
    }
   ],
   "source": [
    "test.info()"
   ]
  },
  {
   "cell_type": "code",
   "execution_count": 5,
   "id": "cdc419f4",
   "metadata": {
    "execution": {
     "iopub.execute_input": "2023-04-02T20:19:12.614194Z",
     "iopub.status.busy": "2023-04-02T20:19:12.613048Z",
     "iopub.status.idle": "2023-04-02T20:19:12.649308Z",
     "shell.execute_reply": "2023-04-02T20:19:12.647891Z"
    },
    "papermill": {
     "duration": 0.053352,
     "end_time": "2023-04-02T20:19:12.652161",
     "exception": false,
     "start_time": "2023-04-02T20:19:12.598809",
     "status": "completed"
    },
    "tags": []
   },
   "outputs": [
    {
     "data": {
      "text/html": [
       "<div>\n",
       "<style scoped>\n",
       "    .dataframe tbody tr th:only-of-type {\n",
       "        vertical-align: middle;\n",
       "    }\n",
       "\n",
       "    .dataframe tbody tr th {\n",
       "        vertical-align: top;\n",
       "    }\n",
       "\n",
       "    .dataframe thead th {\n",
       "        text-align: right;\n",
       "    }\n",
       "</style>\n",
       "<table border=\"1\" class=\"dataframe\">\n",
       "  <thead>\n",
       "    <tr style=\"text-align: right;\">\n",
       "      <th></th>\n",
       "      <th>ID</th>\n",
       "      <th>X0</th>\n",
       "      <th>X1</th>\n",
       "      <th>X2</th>\n",
       "      <th>X3</th>\n",
       "      <th>X4</th>\n",
       "      <th>X5</th>\n",
       "      <th>X6</th>\n",
       "      <th>X8</th>\n",
       "      <th>X10</th>\n",
       "      <th>...</th>\n",
       "      <th>X375</th>\n",
       "      <th>X376</th>\n",
       "      <th>X377</th>\n",
       "      <th>X378</th>\n",
       "      <th>X379</th>\n",
       "      <th>X380</th>\n",
       "      <th>X382</th>\n",
       "      <th>X383</th>\n",
       "      <th>X384</th>\n",
       "      <th>X385</th>\n",
       "    </tr>\n",
       "  </thead>\n",
       "  <tbody>\n",
       "    <tr>\n",
       "      <th>0</th>\n",
       "      <td>1</td>\n",
       "      <td>az</td>\n",
       "      <td>v</td>\n",
       "      <td>n</td>\n",
       "      <td>f</td>\n",
       "      <td>d</td>\n",
       "      <td>t</td>\n",
       "      <td>a</td>\n",
       "      <td>w</td>\n",
       "      <td>0</td>\n",
       "      <td>...</td>\n",
       "      <td>0</td>\n",
       "      <td>0</td>\n",
       "      <td>0</td>\n",
       "      <td>1</td>\n",
       "      <td>0</td>\n",
       "      <td>0</td>\n",
       "      <td>0</td>\n",
       "      <td>0</td>\n",
       "      <td>0</td>\n",
       "      <td>0</td>\n",
       "    </tr>\n",
       "    <tr>\n",
       "      <th>1</th>\n",
       "      <td>2</td>\n",
       "      <td>t</td>\n",
       "      <td>b</td>\n",
       "      <td>ai</td>\n",
       "      <td>a</td>\n",
       "      <td>d</td>\n",
       "      <td>b</td>\n",
       "      <td>g</td>\n",
       "      <td>y</td>\n",
       "      <td>0</td>\n",
       "      <td>...</td>\n",
       "      <td>0</td>\n",
       "      <td>0</td>\n",
       "      <td>1</td>\n",
       "      <td>0</td>\n",
       "      <td>0</td>\n",
       "      <td>0</td>\n",
       "      <td>0</td>\n",
       "      <td>0</td>\n",
       "      <td>0</td>\n",
       "      <td>0</td>\n",
       "    </tr>\n",
       "    <tr>\n",
       "      <th>2</th>\n",
       "      <td>3</td>\n",
       "      <td>az</td>\n",
       "      <td>v</td>\n",
       "      <td>as</td>\n",
       "      <td>f</td>\n",
       "      <td>d</td>\n",
       "      <td>a</td>\n",
       "      <td>j</td>\n",
       "      <td>j</td>\n",
       "      <td>0</td>\n",
       "      <td>...</td>\n",
       "      <td>0</td>\n",
       "      <td>0</td>\n",
       "      <td>0</td>\n",
       "      <td>1</td>\n",
       "      <td>0</td>\n",
       "      <td>0</td>\n",
       "      <td>0</td>\n",
       "      <td>0</td>\n",
       "      <td>0</td>\n",
       "      <td>0</td>\n",
       "    </tr>\n",
       "    <tr>\n",
       "      <th>3</th>\n",
       "      <td>4</td>\n",
       "      <td>az</td>\n",
       "      <td>l</td>\n",
       "      <td>n</td>\n",
       "      <td>f</td>\n",
       "      <td>d</td>\n",
       "      <td>z</td>\n",
       "      <td>l</td>\n",
       "      <td>n</td>\n",
       "      <td>0</td>\n",
       "      <td>...</td>\n",
       "      <td>0</td>\n",
       "      <td>0</td>\n",
       "      <td>0</td>\n",
       "      <td>1</td>\n",
       "      <td>0</td>\n",
       "      <td>0</td>\n",
       "      <td>0</td>\n",
       "      <td>0</td>\n",
       "      <td>0</td>\n",
       "      <td>0</td>\n",
       "    </tr>\n",
       "    <tr>\n",
       "      <th>4</th>\n",
       "      <td>5</td>\n",
       "      <td>w</td>\n",
       "      <td>s</td>\n",
       "      <td>as</td>\n",
       "      <td>c</td>\n",
       "      <td>d</td>\n",
       "      <td>y</td>\n",
       "      <td>i</td>\n",
       "      <td>m</td>\n",
       "      <td>0</td>\n",
       "      <td>...</td>\n",
       "      <td>1</td>\n",
       "      <td>0</td>\n",
       "      <td>0</td>\n",
       "      <td>0</td>\n",
       "      <td>0</td>\n",
       "      <td>0</td>\n",
       "      <td>0</td>\n",
       "      <td>0</td>\n",
       "      <td>0</td>\n",
       "      <td>0</td>\n",
       "    </tr>\n",
       "  </tbody>\n",
       "</table>\n",
       "<p>5 rows × 377 columns</p>\n",
       "</div>"
      ],
      "text/plain": [
       "   ID  X0 X1  X2 X3 X4 X5 X6 X8  X10  ...  X375  X376  X377  X378  X379  X380  \\\n",
       "0   1  az  v   n  f  d  t  a  w    0  ...     0     0     0     1     0     0   \n",
       "1   2   t  b  ai  a  d  b  g  y    0  ...     0     0     1     0     0     0   \n",
       "2   3  az  v  as  f  d  a  j  j    0  ...     0     0     0     1     0     0   \n",
       "3   4  az  l   n  f  d  z  l  n    0  ...     0     0     0     1     0     0   \n",
       "4   5   w  s  as  c  d  y  i  m    0  ...     1     0     0     0     0     0   \n",
       "\n",
       "   X382  X383  X384  X385  \n",
       "0     0     0     0     0  \n",
       "1     0     0     0     0  \n",
       "2     0     0     0     0  \n",
       "3     0     0     0     0  \n",
       "4     0     0     0     0  \n",
       "\n",
       "[5 rows x 377 columns]"
      ]
     },
     "execution_count": 5,
     "metadata": {},
     "output_type": "execute_result"
    }
   ],
   "source": [
    "test.head()"
   ]
  },
  {
   "cell_type": "code",
   "execution_count": 6,
   "id": "677140d6",
   "metadata": {
    "execution": {
     "iopub.execute_input": "2023-04-02T20:19:12.682090Z",
     "iopub.status.busy": "2023-04-02T20:19:12.681678Z",
     "iopub.status.idle": "2023-04-02T20:19:12.706188Z",
     "shell.execute_reply": "2023-04-02T20:19:12.704974Z"
    },
    "papermill": {
     "duration": 0.042355,
     "end_time": "2023-04-02T20:19:12.708691",
     "exception": false,
     "start_time": "2023-04-02T20:19:12.666336",
     "status": "completed"
    },
    "tags": []
   },
   "outputs": [
    {
     "data": {
      "text/html": [
       "<div>\n",
       "<style scoped>\n",
       "    .dataframe tbody tr th:only-of-type {\n",
       "        vertical-align: middle;\n",
       "    }\n",
       "\n",
       "    .dataframe tbody tr th {\n",
       "        vertical-align: top;\n",
       "    }\n",
       "\n",
       "    .dataframe thead th {\n",
       "        text-align: right;\n",
       "    }\n",
       "</style>\n",
       "<table border=\"1\" class=\"dataframe\">\n",
       "  <thead>\n",
       "    <tr style=\"text-align: right;\">\n",
       "      <th></th>\n",
       "      <th>ID</th>\n",
       "      <th>y</th>\n",
       "      <th>X0</th>\n",
       "      <th>X1</th>\n",
       "      <th>X2</th>\n",
       "      <th>X3</th>\n",
       "      <th>X4</th>\n",
       "      <th>X5</th>\n",
       "      <th>X6</th>\n",
       "      <th>X8</th>\n",
       "      <th>...</th>\n",
       "      <th>X375</th>\n",
       "      <th>X376</th>\n",
       "      <th>X377</th>\n",
       "      <th>X378</th>\n",
       "      <th>X379</th>\n",
       "      <th>X380</th>\n",
       "      <th>X382</th>\n",
       "      <th>X383</th>\n",
       "      <th>X384</th>\n",
       "      <th>X385</th>\n",
       "    </tr>\n",
       "  </thead>\n",
       "  <tbody>\n",
       "    <tr>\n",
       "      <th>0</th>\n",
       "      <td>0</td>\n",
       "      <td>130.81</td>\n",
       "      <td>k</td>\n",
       "      <td>v</td>\n",
       "      <td>at</td>\n",
       "      <td>a</td>\n",
       "      <td>d</td>\n",
       "      <td>u</td>\n",
       "      <td>j</td>\n",
       "      <td>o</td>\n",
       "      <td>...</td>\n",
       "      <td>0</td>\n",
       "      <td>0</td>\n",
       "      <td>1</td>\n",
       "      <td>0</td>\n",
       "      <td>0</td>\n",
       "      <td>0</td>\n",
       "      <td>0</td>\n",
       "      <td>0</td>\n",
       "      <td>0</td>\n",
       "      <td>0</td>\n",
       "    </tr>\n",
       "    <tr>\n",
       "      <th>1</th>\n",
       "      <td>6</td>\n",
       "      <td>88.53</td>\n",
       "      <td>k</td>\n",
       "      <td>t</td>\n",
       "      <td>av</td>\n",
       "      <td>e</td>\n",
       "      <td>d</td>\n",
       "      <td>y</td>\n",
       "      <td>l</td>\n",
       "      <td>o</td>\n",
       "      <td>...</td>\n",
       "      <td>1</td>\n",
       "      <td>0</td>\n",
       "      <td>0</td>\n",
       "      <td>0</td>\n",
       "      <td>0</td>\n",
       "      <td>0</td>\n",
       "      <td>0</td>\n",
       "      <td>0</td>\n",
       "      <td>0</td>\n",
       "      <td>0</td>\n",
       "    </tr>\n",
       "    <tr>\n",
       "      <th>2</th>\n",
       "      <td>7</td>\n",
       "      <td>76.26</td>\n",
       "      <td>az</td>\n",
       "      <td>w</td>\n",
       "      <td>n</td>\n",
       "      <td>c</td>\n",
       "      <td>d</td>\n",
       "      <td>x</td>\n",
       "      <td>j</td>\n",
       "      <td>x</td>\n",
       "      <td>...</td>\n",
       "      <td>0</td>\n",
       "      <td>0</td>\n",
       "      <td>0</td>\n",
       "      <td>0</td>\n",
       "      <td>0</td>\n",
       "      <td>0</td>\n",
       "      <td>1</td>\n",
       "      <td>0</td>\n",
       "      <td>0</td>\n",
       "      <td>0</td>\n",
       "    </tr>\n",
       "    <tr>\n",
       "      <th>3</th>\n",
       "      <td>9</td>\n",
       "      <td>80.62</td>\n",
       "      <td>az</td>\n",
       "      <td>t</td>\n",
       "      <td>n</td>\n",
       "      <td>f</td>\n",
       "      <td>d</td>\n",
       "      <td>x</td>\n",
       "      <td>l</td>\n",
       "      <td>e</td>\n",
       "      <td>...</td>\n",
       "      <td>0</td>\n",
       "      <td>0</td>\n",
       "      <td>0</td>\n",
       "      <td>0</td>\n",
       "      <td>0</td>\n",
       "      <td>0</td>\n",
       "      <td>0</td>\n",
       "      <td>0</td>\n",
       "      <td>0</td>\n",
       "      <td>0</td>\n",
       "    </tr>\n",
       "    <tr>\n",
       "      <th>4</th>\n",
       "      <td>13</td>\n",
       "      <td>78.02</td>\n",
       "      <td>az</td>\n",
       "      <td>v</td>\n",
       "      <td>n</td>\n",
       "      <td>f</td>\n",
       "      <td>d</td>\n",
       "      <td>h</td>\n",
       "      <td>d</td>\n",
       "      <td>n</td>\n",
       "      <td>...</td>\n",
       "      <td>0</td>\n",
       "      <td>0</td>\n",
       "      <td>0</td>\n",
       "      <td>0</td>\n",
       "      <td>0</td>\n",
       "      <td>0</td>\n",
       "      <td>0</td>\n",
       "      <td>0</td>\n",
       "      <td>0</td>\n",
       "      <td>0</td>\n",
       "    </tr>\n",
       "  </tbody>\n",
       "</table>\n",
       "<p>5 rows × 378 columns</p>\n",
       "</div>"
      ],
      "text/plain": [
       "   ID       y  X0 X1  X2 X3 X4 X5 X6 X8  ...  X375  X376  X377  X378  X379  \\\n",
       "0   0  130.81   k  v  at  a  d  u  j  o  ...     0     0     1     0     0   \n",
       "1   6   88.53   k  t  av  e  d  y  l  o  ...     1     0     0     0     0   \n",
       "2   7   76.26  az  w   n  c  d  x  j  x  ...     0     0     0     0     0   \n",
       "3   9   80.62  az  t   n  f  d  x  l  e  ...     0     0     0     0     0   \n",
       "4  13   78.02  az  v   n  f  d  h  d  n  ...     0     0     0     0     0   \n",
       "\n",
       "   X380  X382  X383  X384  X385  \n",
       "0     0     0     0     0     0  \n",
       "1     0     0     0     0     0  \n",
       "2     0     1     0     0     0  \n",
       "3     0     0     0     0     0  \n",
       "4     0     0     0     0     0  \n",
       "\n",
       "[5 rows x 378 columns]"
      ]
     },
     "execution_count": 6,
     "metadata": {},
     "output_type": "execute_result"
    }
   ],
   "source": [
    "train.head()"
   ]
  },
  {
   "cell_type": "code",
   "execution_count": 7,
   "id": "e66b4a2e",
   "metadata": {
    "execution": {
     "iopub.execute_input": "2023-04-02T20:19:12.739431Z",
     "iopub.status.busy": "2023-04-02T20:19:12.738260Z",
     "iopub.status.idle": "2023-04-02T20:19:12.744618Z",
     "shell.execute_reply": "2023-04-02T20:19:12.743212Z"
    },
    "papermill": {
     "duration": 0.02399,
     "end_time": "2023-04-02T20:19:12.747262",
     "exception": false,
     "start_time": "2023-04-02T20:19:12.723272",
     "status": "completed"
    },
    "tags": []
   },
   "outputs": [],
   "source": [
    "y_train = train['y']"
   ]
  },
  {
   "cell_type": "code",
   "execution_count": 8,
   "id": "d3ff436a",
   "metadata": {
    "execution": {
     "iopub.execute_input": "2023-04-02T20:19:12.778302Z",
     "iopub.status.busy": "2023-04-02T20:19:12.777896Z",
     "iopub.status.idle": "2023-04-02T20:19:12.871255Z",
     "shell.execute_reply": "2023-04-02T20:19:12.869607Z"
    },
    "papermill": {
     "duration": 0.112894,
     "end_time": "2023-04-02T20:19:12.874315",
     "exception": false,
     "start_time": "2023-04-02T20:19:12.761421",
     "status": "completed"
    },
    "tags": []
   },
   "outputs": [
    {
     "name": "stdout",
     "output_type": "stream",
     "text": [
      "<class 'pandas.core.frame.DataFrame'>\n",
      "RangeIndex: 8418 entries, 0 to 8417\n",
      "Columns: 378 entries, ID to X385\n",
      "dtypes: float64(1), int64(369), object(8)\n",
      "memory usage: 24.3+ MB\n"
     ]
    }
   ],
   "source": [
    "data = pd.concat([train, test]).reset_index(drop=True)\n",
    "data.info()"
   ]
  },
  {
   "cell_type": "code",
   "execution_count": 9,
   "id": "1a0248b4",
   "metadata": {
    "execution": {
     "iopub.execute_input": "2023-04-02T20:19:12.904002Z",
     "iopub.status.busy": "2023-04-02T20:19:12.903587Z",
     "iopub.status.idle": "2023-04-02T20:19:12.932309Z",
     "shell.execute_reply": "2023-04-02T20:19:12.930649Z"
    },
    "papermill": {
     "duration": 0.04653,
     "end_time": "2023-04-02T20:19:12.935052",
     "exception": false,
     "start_time": "2023-04-02T20:19:12.888522",
     "status": "completed"
    },
    "tags": []
   },
   "outputs": [
    {
     "name": "stdout",
     "output_type": "stream",
     "text": [
      "Number of null values in data:  0\n"
     ]
    }
   ],
   "source": [
    "print('Number of null values in data: ', data.drop('y', axis=1).isna().sum().sum())"
   ]
  },
  {
   "cell_type": "code",
   "execution_count": 10,
   "id": "ae5e58e6",
   "metadata": {
    "execution": {
     "iopub.execute_input": "2023-04-02T20:19:12.964824Z",
     "iopub.status.busy": "2023-04-02T20:19:12.963756Z",
     "iopub.status.idle": "2023-04-02T20:19:13.003144Z",
     "shell.execute_reply": "2023-04-02T20:19:13.001527Z"
    },
    "papermill": {
     "duration": 0.057337,
     "end_time": "2023-04-02T20:19:13.006029",
     "exception": false,
     "start_time": "2023-04-02T20:19:12.948692",
     "status": "completed"
    },
    "tags": []
   },
   "outputs": [
    {
     "data": {
      "text/html": [
       "<div>\n",
       "<style scoped>\n",
       "    .dataframe tbody tr th:only-of-type {\n",
       "        vertical-align: middle;\n",
       "    }\n",
       "\n",
       "    .dataframe tbody tr th {\n",
       "        vertical-align: top;\n",
       "    }\n",
       "\n",
       "    .dataframe thead th {\n",
       "        text-align: right;\n",
       "    }\n",
       "</style>\n",
       "<table border=\"1\" class=\"dataframe\">\n",
       "  <thead>\n",
       "    <tr style=\"text-align: right;\">\n",
       "      <th></th>\n",
       "      <th>X0</th>\n",
       "      <th>X1</th>\n",
       "      <th>X2</th>\n",
       "      <th>X3</th>\n",
       "      <th>X4</th>\n",
       "      <th>X5</th>\n",
       "      <th>X6</th>\n",
       "      <th>X8</th>\n",
       "    </tr>\n",
       "  </thead>\n",
       "  <tbody>\n",
       "    <tr>\n",
       "      <th>count</th>\n",
       "      <td>8418</td>\n",
       "      <td>8418</td>\n",
       "      <td>8418</td>\n",
       "      <td>8418</td>\n",
       "      <td>8418</td>\n",
       "      <td>8418</td>\n",
       "      <td>8418</td>\n",
       "      <td>8418</td>\n",
       "    </tr>\n",
       "    <tr>\n",
       "      <th>unique</th>\n",
       "      <td>53</td>\n",
       "      <td>27</td>\n",
       "      <td>50</td>\n",
       "      <td>7</td>\n",
       "      <td>4</td>\n",
       "      <td>33</td>\n",
       "      <td>12</td>\n",
       "      <td>25</td>\n",
       "    </tr>\n",
       "    <tr>\n",
       "      <th>top</th>\n",
       "      <td>ak</td>\n",
       "      <td>aa</td>\n",
       "      <td>as</td>\n",
       "      <td>c</td>\n",
       "      <td>d</td>\n",
       "      <td>v</td>\n",
       "      <td>g</td>\n",
       "      <td>j</td>\n",
       "    </tr>\n",
       "    <tr>\n",
       "      <th>freq</th>\n",
       "      <td>781</td>\n",
       "      <td>1659</td>\n",
       "      <td>3317</td>\n",
       "      <td>3842</td>\n",
       "      <td>8408</td>\n",
       "      <td>477</td>\n",
       "      <td>2115</td>\n",
       "      <td>533</td>\n",
       "    </tr>\n",
       "  </tbody>\n",
       "</table>\n",
       "</div>"
      ],
      "text/plain": [
       "          X0    X1    X2    X3    X4    X5    X6    X8\n",
       "count   8418  8418  8418  8418  8418  8418  8418  8418\n",
       "unique    53    27    50     7     4    33    12    25\n",
       "top       ak    aa    as     c     d     v     g     j\n",
       "freq     781  1659  3317  3842  8408   477  2115   533"
      ]
     },
     "execution_count": 10,
     "metadata": {},
     "output_type": "execute_result"
    }
   ],
   "source": [
    "data.loc[:, 'X0':'X8'].describe()"
   ]
  },
  {
   "cell_type": "markdown",
   "id": "9e3e2682",
   "metadata": {
    "papermill": {
     "duration": 0.013561,
     "end_time": "2023-04-02T20:19:13.033600",
     "exception": false,
     "start_time": "2023-04-02T20:19:13.020039",
     "status": "completed"
    },
    "tags": []
   },
   "source": [
    "## X0 Feature"
   ]
  },
  {
   "cell_type": "code",
   "execution_count": 11,
   "id": "19a54bf8",
   "metadata": {
    "execution": {
     "iopub.execute_input": "2023-04-02T20:19:13.064087Z",
     "iopub.status.busy": "2023-04-02T20:19:13.063704Z",
     "iopub.status.idle": "2023-04-02T20:19:14.268894Z",
     "shell.execute_reply": "2023-04-02T20:19:14.267467Z"
    },
    "papermill": {
     "duration": 1.223832,
     "end_time": "2023-04-02T20:19:14.272103",
     "exception": false,
     "start_time": "2023-04-02T20:19:13.048271",
     "status": "completed"
    },
    "tags": []
   },
   "outputs": [
    {
     "data": {
      "image/png": "[encoded data removed]",
      "text/plain": [
       "<Figure size 1200x500 with 2 Axes>"
      ]
     },
     "metadata": {},
     "output_type": "display_data"
    }
   ],
   "source": [
    "# Create subplots with 1 row and 2 columns\n",
    "fig, axs = plt.subplots(ncols=2, figsize=(12,5))\n",
    "\n",
    "# Plot the first subplot: countplot of X0\n",
    "sns.countplot(data=data, y='X0', ax=axs[0])\n",
    "axs[0].set_yticklabels(axs[0].get_yticklabels(), fontsize=8)\n",
    "\n",
    "# Plot the second subplot: barplot of X0 vs. y\n",
    "sns.barplot(data=train, y='X0', x='y',ci=None, ax=axs[1])\n",
    "axs[1].set_yticklabels(axs[1].get_yticklabels(), fontsize=8)\n",
    "axs[1].set_xlim(left=70)\n",
    "\n",
    "# Set the title for the figure\n",
    "fig.suptitle('X0 Counts and Targets', fontsize=14)\n",
    "\n",
    "# Show the figure\n",
    "plt.show()"
   ]
  },
  {
   "cell_type": "markdown",
   "id": "5b95a3c3",
   "metadata": {
    "papermill": {
     "duration": 0.014492,
     "end_time": "2023-04-02T20:19:14.301690",
     "exception": false,
     "start_time": "2023-04-02T20:19:14.287198",
     "status": "completed"
    },
    "tags": []
   },
   "source": [
    "## X1 Feature"
   ]
  },
  {
   "cell_type": "code",
   "execution_count": 12,
   "id": "8efe29c4",
   "metadata": {
    "execution": {
     "iopub.execute_input": "2023-04-02T20:19:14.334652Z",
     "iopub.status.busy": "2023-04-02T20:19:14.333581Z",
     "iopub.status.idle": "2023-04-02T20:19:14.984828Z",
     "shell.execute_reply": "2023-04-02T20:19:14.983492Z"
    },
    "papermill": {
     "duration": 0.670916,
     "end_time": "2023-04-02T20:19:14.987434",
     "exception": false,
     "start_time": "2023-04-02T20:19:14.316518",
     "status": "completed"
    },
    "tags": []
   },
   "outputs": [
    {
     "data": {
      "image/png": "[encoded data removed]",
      "text/plain": [
       "<Figure size 1200x500 with 2 Axes>"
      ]
     },
     "metadata": {},
     "output_type": "display_data"
    }
   ],
   "source": [
    "# Create subplots with 1 row and 2 columns\n",
    "fig, axs = plt.subplots(ncols=2, figsize=(12,5))\n",
    "\n",
    "# Plot the first subplot: countplot of X1\n",
    "sns.countplot(data=data, y='X1', ax=axs[0])\n",
    "axs[0].set_yticklabels(axs[0].get_yticklabels(), fontsize=8)\n",
    "\n",
    "# Plot the second subplot: barplot of X1 vs. y\n",
    "sns.barplot(data=train, y='X1', x='y',ci=None, ax=axs[1])\n",
    "axs[1].set_yticklabels(axs[1].get_yticklabels(), fontsize=8)\n",
    "axs[1].set_xlim(left=70)\n",
    "\n",
    "# Set the title for the figure\n",
    "fig.suptitle('X1 Counts and Targets', fontsize=14)\n",
    "\n",
    "# Show the figure\n",
    "plt.show()"
   ]
  },
  {
   "cell_type": "markdown",
   "id": "c9f5c20c",
   "metadata": {
    "papermill": {
     "duration": 0.015214,
     "end_time": "2023-04-02T20:19:15.017746",
     "exception": false,
     "start_time": "2023-04-02T20:19:15.002532",
     "status": "completed"
    },
    "tags": []
   },
   "source": [
    "## X2 Feature"
   ]
  },
  {
   "cell_type": "code",
   "execution_count": 13,
   "id": "71193784",
   "metadata": {
    "execution": {
     "iopub.execute_input": "2023-04-02T20:19:15.050768Z",
     "iopub.status.busy": "2023-04-02T20:19:15.050054Z",
     "iopub.status.idle": "2023-04-02T20:19:16.269620Z",
     "shell.execute_reply": "2023-04-02T20:19:16.268331Z"
    },
    "papermill": {
     "duration": 1.239183,
     "end_time": "2023-04-02T20:19:16.272434",
     "exception": false,
     "start_time": "2023-04-02T20:19:15.033251",
     "status": "completed"
    },
    "tags": []
   },
   "outputs": [
    {
     "data": {
      "image/png": "[encoded data removed]",
      "text/plain": [
       "<Figure size 1200x500 with 2 Axes>"
      ]
     },
     "metadata": {},
     "output_type": "display_data"
    }
   ],
   "source": [
    "# Create subplots with 1 row and 2 columns\n",
    "fig, axs = plt.subplots(ncols=2, figsize=(12,5))\n",
    "\n",
    "# Plot the first subplot: countplot of X2\n",
    "sns.countplot(data=data, y='X2', ax=axs[0])\n",
    "axs[0].set_yticklabels(axs[0].get_yticklabels(), fontsize=8)\n",
    "\n",
    "# Plot the second subplot: barplot of X2 vs. y\n",
    "sns.barplot(data=train, y='X2', x='y',ci=None, ax=axs[1])\n",
    "axs[1].set_yticklabels(axs[1].get_yticklabels(), fontsize=8)\n",
    "axs[1].set_xlim(left=80)\n",
    "\n",
    "# Set the title for the figure\n",
    "fig.suptitle('X2 Counts and Targets', fontsize=14)\n",
    "\n",
    "# Show the figure\n",
    "plt.show()"
   ]
  },
  {
   "cell_type": "markdown",
   "id": "83da02e2",
   "metadata": {
    "papermill": {
     "duration": 0.016962,
     "end_time": "2023-04-02T20:19:16.305384",
     "exception": false,
     "start_time": "2023-04-02T20:19:16.288422",
     "status": "completed"
    },
    "tags": []
   },
   "source": [
    "## X3 Feature"
   ]
  },
  {
   "cell_type": "code",
   "execution_count": 14,
   "id": "14ea8c12",
   "metadata": {
    "execution": {
     "iopub.execute_input": "2023-04-02T20:19:16.340692Z",
     "iopub.status.busy": "2023-04-02T20:19:16.339459Z",
     "iopub.status.idle": "2023-04-02T20:19:16.729567Z",
     "shell.execute_reply": "2023-04-02T20:19:16.728619Z"
    },
    "papermill": {
     "duration": 0.410618,
     "end_time": "2023-04-02T20:19:16.732289",
     "exception": false,
     "start_time": "2023-04-02T20:19:16.321671",
     "status": "completed"
    },
    "tags": []
   },
   "outputs": [
    {
     "data": {
      "image/png": "[encoded data removed]",
      "text/plain": [
       "<Figure size 1200x500 with 2 Axes>"
      ]
     },
     "metadata": {},
     "output_type": "display_data"
    }
   ],
   "source": [
    "# Create subplots with 1 row and 2 columns\n",
    "fig, axs = plt.subplots(ncols=2, figsize=(12,5))\n",
    "\n",
    "# Plot the first subplot: countplot of X3\n",
    "sns.countplot(data=data, y='X3', ax=axs[0])\n",
    "axs[0].set_yticklabels(axs[0].get_yticklabels(), fontsize=8)\n",
    "\n",
    "# Plot the second subplot: barplot of X3 vs. y\n",
    "sns.barplot(data=train, y='X3', x='y',ci=None, ax=axs[1])\n",
    "axs[1].set_xlim(left=90)\n",
    "\n",
    "# Set the title for the figure\n",
    "fig.suptitle('X3 Counts and Targets', fontsize=14)\n",
    "\n",
    "# Show the figure\n",
    "plt.show()"
   ]
  },
  {
   "cell_type": "markdown",
   "id": "e4208119",
   "metadata": {
    "papermill": {
     "duration": 0.016047,
     "end_time": "2023-04-02T20:19:16.765901",
     "exception": false,
     "start_time": "2023-04-02T20:19:16.749854",
     "status": "completed"
    },
    "tags": []
   },
   "source": [
    "## X4 Feature"
   ]
  },
  {
   "cell_type": "code",
   "execution_count": 15,
   "id": "45c3dd56",
   "metadata": {
    "execution": {
     "iopub.execute_input": "2023-04-02T20:19:16.800764Z",
     "iopub.status.busy": "2023-04-02T20:19:16.800093Z",
     "iopub.status.idle": "2023-04-02T20:19:17.150838Z",
     "shell.execute_reply": "2023-04-02T20:19:17.149955Z"
    },
    "papermill": {
     "duration": 0.37107,
     "end_time": "2023-04-02T20:19:17.153338",
     "exception": false,
     "start_time": "2023-04-02T20:19:16.782268",
     "status": "completed"
    },
    "tags": []
   },
   "outputs": [
    {
     "data": {
      "image/png": "[encoded data removed]",
      "text/plain": [
       "<Figure size 1200x500 with 2 Axes>"
      ]
     },
     "metadata": {},
     "output_type": "display_data"
    }
   ],
   "source": [
    "# Create subplots with 1 row and 2 columns\n",
    "fig, axs = plt.subplots(ncols=2, figsize=(12,5))\n",
    "\n",
    "# Plot the first subplot: countplot of X4\n",
    "sns.countplot(data=data, y='X4', ax=axs[0])\n",
    "axs[0].set_yticklabels(axs[0].get_yticklabels(), fontsize=8)\n",
    "for patch in axs[0].patches:\n",
    "    x = patch.get_width()\n",
    "    y = patch.get_y() + patch.get_height() / 2\n",
    "    axs[0].annotate(f'{x:.0f}', (x + 10, y), ha='left', va='center')\n",
    "\n",
    "# Plot the second subplot: barplot of X4 vs. y\n",
    "sns.barplot(data=train, y='X4', x='y',ci=None, ax=axs[1])\n",
    "axs[1].set_xlim(left=90)\n",
    "\n",
    "# Set the title for the figure\n",
    "fig.suptitle('X4 Counts and Targets', fontsize=14)\n",
    "\n",
    "# Show the figure\n",
    "plt.show()"
   ]
  },
  {
   "cell_type": "markdown",
   "id": "77c49c1d",
   "metadata": {
    "papermill": {
     "duration": 0.016619,
     "end_time": "2023-04-02T20:19:17.186937",
     "exception": false,
     "start_time": "2023-04-02T20:19:17.170318",
     "status": "completed"
    },
    "tags": []
   },
   "source": [
    "* This feature do not mean anything about target variable, because a, b and c category have too small numbers of instances. So we can drop this."
   ]
  },
  {
   "cell_type": "markdown",
   "id": "a61e16a4",
   "metadata": {
    "papermill": {
     "duration": 0.016686,
     "end_time": "2023-04-02T20:19:17.221369",
     "exception": false,
     "start_time": "2023-04-02T20:19:17.204683",
     "status": "completed"
    },
    "tags": []
   },
   "source": [
    "## X5 Feature"
   ]
  },
  {
   "cell_type": "code",
   "execution_count": 16,
   "id": "41211017",
   "metadata": {
    "execution": {
     "iopub.execute_input": "2023-04-02T20:19:17.258632Z",
     "iopub.status.busy": "2023-04-02T20:19:17.257918Z",
     "iopub.status.idle": "2023-04-02T20:19:17.992167Z",
     "shell.execute_reply": "2023-04-02T20:19:17.990798Z"
    },
    "papermill": {
     "duration": 0.756159,
     "end_time": "2023-04-02T20:19:17.994924",
     "exception": false,
     "start_time": "2023-04-02T20:19:17.238765",
     "status": "completed"
    },
    "tags": []
   },
   "outputs": [
    {
     "data": {
      "image/png": "[encoded data removed]",
      "text/plain": [
       "<Figure size 1200x500 with 2 Axes>"
      ]
     },
     "metadata": {},
     "output_type": "display_data"
    }
   ],
   "source": [
    "# Create subplots with 1 row and 2 columns\n",
    "fig, axs = plt.subplots(ncols=2, figsize=(12,5))\n",
    "\n",
    "# Plot the first subplot: countplot of X5\n",
    "sns.countplot(data=data, y='X5', ax=axs[0])\n",
    "axs[0].set_yticklabels(axs[0].get_yticklabels(), fontsize=8)\n",
    "\n",
    "# Plot the second subplot: barplot of X5 vs. y\n",
    "sns.barplot(data=train, y='X5', x='y',ci=None, ax=axs[1])\n",
    "axs[1].set_xlim(left=70)\n",
    "\n",
    "# Set the title for the figure\n",
    "fig.suptitle('X5 Counts and Targets', fontsize=14)\n",
    "\n",
    "# Show the figure\n",
    "plt.show()"
   ]
  },
  {
   "cell_type": "markdown",
   "id": "6884773a",
   "metadata": {
    "papermill": {
     "duration": 0.017369,
     "end_time": "2023-04-02T20:19:18.030387",
     "exception": false,
     "start_time": "2023-04-02T20:19:18.013018",
     "status": "completed"
    },
    "tags": []
   },
   "source": [
    "## Feature X6"
   ]
  },
  {
   "cell_type": "code",
   "execution_count": 17,
   "id": "51777d83",
   "metadata": {
    "execution": {
     "iopub.execute_input": "2023-04-02T20:19:18.067510Z",
     "iopub.status.busy": "2023-04-02T20:19:18.067049Z",
     "iopub.status.idle": "2023-04-02T20:19:18.550048Z",
     "shell.execute_reply": "2023-04-02T20:19:18.548586Z"
    },
    "papermill": {
     "duration": 0.504995,
     "end_time": "2023-04-02T20:19:18.553066",
     "exception": false,
     "start_time": "2023-04-02T20:19:18.048071",
     "status": "completed"
    },
    "tags": []
   },
   "outputs": [
    {
     "data": {
      "image/png": "[encoded data removed]",
      "text/plain": [
       "<Figure size 1200x500 with 2 Axes>"
      ]
     },
     "metadata": {},
     "output_type": "display_data"
    }
   ],
   "source": [
    "# Create subplots with 1 row and 2 columns\n",
    "fig, axs = plt.subplots(ncols=2, figsize=(12,5))\n",
    "\n",
    "# Plot the first subplot: countplot of X6\n",
    "sns.countplot(data=data, y='X6', ax=axs[0])\n",
    "\n",
    "# Plot the second subplot: barplot of X6 vs. y\n",
    "sns.barplot(data=train, y='X6', x='y',ci=None, ax=axs[1])\n",
    "axs[1].set_xlim(left=90)\n",
    "\n",
    "# Set the title for the figure\n",
    "fig.suptitle('X6 Counts and Targets', fontsize=14)\n",
    "\n",
    "# Show the figure\n",
    "plt.show()"
   ]
  },
  {
   "cell_type": "markdown",
   "id": "471c8974",
   "metadata": {
    "papermill": {
     "duration": 0.018596,
     "end_time": "2023-04-02T20:19:18.590237",
     "exception": false,
     "start_time": "2023-04-02T20:19:18.571641",
     "status": "completed"
    },
    "tags": []
   },
   "source": [
    "## Feature X8"
   ]
  },
  {
   "cell_type": "code",
   "execution_count": 18,
   "id": "3d28c88f",
   "metadata": {
    "execution": {
     "iopub.execute_input": "2023-04-02T20:19:18.631572Z",
     "iopub.status.busy": "2023-04-02T20:19:18.630303Z",
     "iopub.status.idle": "2023-04-02T20:19:19.348661Z",
     "shell.execute_reply": "2023-04-02T20:19:19.347428Z"
    },
    "papermill": {
     "duration": 0.743947,
     "end_time": "2023-04-02T20:19:19.353787",
     "exception": false,
     "start_time": "2023-04-02T20:19:18.609840",
     "status": "completed"
    },
    "tags": []
   },
   "outputs": [
    {
     "data": {
      "image/png": "[encoded data removed]",
      "text/plain": [
       "<Figure size 1200x500 with 2 Axes>"
      ]
     },
     "metadata": {},
     "output_type": "display_data"
    }
   ],
   "source": [
    "# Create subplots with 1 row and 2 columns\n",
    "fig, axs = plt.subplots(ncols=2, figsize=(12,5))\n",
    "\n",
    "# Plot the first subplot: countplot of X8\n",
    "sns.countplot(data=data, y='X8', ax=axs[0])\n",
    "axs[0].set_yticklabels(axs[0].get_yticklabels(), fontsize=9)\n",
    "\n",
    "# Plot the second subplot: barplot of X8 vs. y\n",
    "sns.barplot(data=train, y='X8', x='y',ci=None, ax=axs[1])\n",
    "axs[1].set_xlim(left=95)\n",
    "\n",
    "# Set the title for the figure\n",
    "fig.suptitle('X8 Counts and Targets', fontsize=14)\n",
    "\n",
    "# Show the figure\n",
    "plt.show()"
   ]
  },
  {
   "cell_type": "code",
   "execution_count": 19,
   "id": "fc9b1d17",
   "metadata": {
    "execution": {
     "iopub.execute_input": "2023-04-02T20:19:19.394160Z",
     "iopub.status.busy": "2023-04-02T20:19:19.393738Z",
     "iopub.status.idle": "2023-04-02T20:19:20.076923Z",
     "shell.execute_reply": "2023-04-02T20:19:20.075354Z"
    },
    "papermill": {
     "duration": 0.706288,
     "end_time": "2023-04-02T20:19:20.079760",
     "exception": false,
     "start_time": "2023-04-02T20:19:19.373472",
     "status": "completed"
    },
    "tags": []
   },
   "outputs": [
    {
     "data": {
      "image/png": "[encoded data removed]",
      "text/plain": [
       "<Figure size 1200x500 with 2 Axes>"
      ]
     },
     "metadata": {},
     "output_type": "display_data"
    }
   ],
   "source": [
    "# Create a 2x1 grid of subplots with a shared y-axis\n",
    "fig, (ax1, ax2) = plt.subplots(ncols=2, figsize=(12, 5))\n",
    "\n",
    "# Create a histogram of the target, with a vertical line indicating the mean age\n",
    "sns.histplot(data=y_train, bins=50, color='#ff1a66', ax=ax1)\n",
    "ax1.axvline(x=y_train.median(), color='black', lw=2)\n",
    "ax1.text(x=y_train.mean()+2, y=700, s='mean', color='black')\n",
    "\n",
    "# Create a boxplot of the target\n",
    "sns.boxplot(data=y_train, ax=ax2)\n",
    "\n",
    "# Set the title of the figure\n",
    "fig.suptitle('Target Distribution', fontsize=14, fontweight='normal')\n",
    "\n",
    "# Increase the horizontal space between the subplots\n",
    "plt.subplots_adjust(wspace=0.3)\n",
    "\n",
    "plt.show()"
   ]
  },
  {
   "cell_type": "markdown",
   "id": "92ff1741",
   "metadata": {
    "papermill": {
     "duration": 0.019082,
     "end_time": "2023-04-02T20:19:20.117838",
     "exception": false,
     "start_time": "2023-04-02T20:19:20.098756",
     "status": "completed"
    },
    "tags": []
   },
   "source": [
    "# Feature Engineering and Preprocessing"
   ]
  },
  {
   "cell_type": "markdown",
   "id": "88c125b5",
   "metadata": {
    "papermill": {
     "duration": 0.019142,
     "end_time": "2023-04-02T20:19:20.156161",
     "exception": false,
     "start_time": "2023-04-02T20:19:20.137019",
     "status": "completed"
    },
    "tags": []
   },
   "source": [
    "### New X0"
   ]
  },
  {
   "cell_type": "code",
   "execution_count": 20,
   "id": "f2e7c71e",
   "metadata": {
    "execution": {
     "iopub.execute_input": "2023-04-02T20:19:20.197235Z",
     "iopub.status.busy": "2023-04-02T20:19:20.196400Z",
     "iopub.status.idle": "2023-04-02T20:19:20.209178Z",
     "shell.execute_reply": "2023-04-02T20:19:20.208091Z"
    },
    "papermill": {
     "duration": 0.036613,
     "end_time": "2023-04-02T20:19:20.211994",
     "exception": false,
     "start_time": "2023-04-02T20:19:20.175381",
     "status": "completed"
    },
    "tags": []
   },
   "outputs": [],
   "source": [
    "x0_means = data.groupby('X0')['y'].mean()\n",
    "g1 = x0_means[x0_means < 85]\n",
    "g2 = x0_means[(x0_means >= 85) & (x0_means < 99)]\n",
    "g3 = x0_means[(x0_means >= 99) & (x0_means < 106)]\n",
    "g4 = x0_means[(x0_means >= 106) & (x0_means < 112)]\n",
    "g5 = x0_means[(x0_means >= 112) & (x0_means < 130)]\n",
    "g6 = x0_means[x0_means >= 130]"
   ]
  },
  {
   "cell_type": "code",
   "execution_count": 21,
   "id": "d679a9f2",
   "metadata": {
    "execution": {
     "iopub.execute_input": "2023-04-02T20:19:20.254178Z",
     "iopub.status.busy": "2023-04-02T20:19:20.253693Z",
     "iopub.status.idle": "2023-04-02T20:19:20.281890Z",
     "shell.execute_reply": "2023-04-02T20:19:20.280447Z"
    },
    "papermill": {
     "duration": 0.05297,
     "end_time": "2023-04-02T20:19:20.284913",
     "exception": false,
     "start_time": "2023-04-02T20:19:20.231943",
     "status": "completed"
    },
    "tags": []
   },
   "outputs": [],
   "source": [
    "def new_x0(x):\n",
    "    if x in g1.index:\n",
    "        return 1\n",
    "    elif x in g2.index:\n",
    "        return 2\n",
    "    elif x in g3.index:\n",
    "        return 3\n",
    "    elif x in g4.index:\n",
    "        return 4\n",
    "    elif x in g5.index:\n",
    "        return 5\n",
    "    elif x in g6.index:\n",
    "        return 6\n",
    "    return 0\n",
    "\n",
    "data['X0_der'] = data['X0'].apply(new_x0)"
   ]
  },
  {
   "cell_type": "markdown",
   "id": "424d218b",
   "metadata": {
    "papermill": {
     "duration": 0.018855,
     "end_time": "2023-04-02T20:19:20.322920",
     "exception": false,
     "start_time": "2023-04-02T20:19:20.304065",
     "status": "completed"
    },
    "tags": []
   },
   "source": [
    "### New X1"
   ]
  },
  {
   "cell_type": "code",
   "execution_count": 22,
   "id": "89bb9bae",
   "metadata": {
    "execution": {
     "iopub.execute_input": "2023-04-02T20:19:20.364742Z",
     "iopub.status.busy": "2023-04-02T20:19:20.363837Z",
     "iopub.status.idle": "2023-04-02T20:19:20.374915Z",
     "shell.execute_reply": "2023-04-02T20:19:20.373605Z"
    },
    "papermill": {
     "duration": 0.035555,
     "end_time": "2023-04-02T20:19:20.377805",
     "exception": false,
     "start_time": "2023-04-02T20:19:20.342250",
     "status": "completed"
    },
    "tags": []
   },
   "outputs": [],
   "source": [
    "x1_means = data.groupby('X1')['y'].mean()\n",
    "g1 = x1_means[x1_means < 85]\n",
    "g2 = x1_means[(x1_means >= 85) & (x1_means < 97)]\n",
    "g3 = x1_means[(x1_means >= 97) & (x1_means < 102.5)]\n",
    "g4 = x1_means[x1_means >= 102.5]"
   ]
  },
  {
   "cell_type": "code",
   "execution_count": 23,
   "id": "bd2fbb5a",
   "metadata": {
    "execution": {
     "iopub.execute_input": "2023-04-02T20:19:20.418329Z",
     "iopub.status.busy": "2023-04-02T20:19:20.417878Z",
     "iopub.status.idle": "2023-04-02T20:19:20.444979Z",
     "shell.execute_reply": "2023-04-02T20:19:20.443595Z"
    },
    "papermill": {
     "duration": 0.050895,
     "end_time": "2023-04-02T20:19:20.447727",
     "exception": false,
     "start_time": "2023-04-02T20:19:20.396832",
     "status": "completed"
    },
    "tags": []
   },
   "outputs": [],
   "source": [
    "def new_x1(x):\n",
    "    if x in g1.index:\n",
    "        return 1\n",
    "    elif x in g2.index:\n",
    "        return 2\n",
    "    elif x in g3.index:\n",
    "        return 3\n",
    "    elif x in g4.index:\n",
    "        return 4\n",
    "    return 0\n",
    "\n",
    "data['X1_der'] = data['X1'].apply(new_x1)"
   ]
  },
  {
   "cell_type": "markdown",
   "id": "f76673ad",
   "metadata": {
    "papermill": {
     "duration": 0.019383,
     "end_time": "2023-04-02T20:19:20.486259",
     "exception": false,
     "start_time": "2023-04-02T20:19:20.466876",
     "status": "completed"
    },
    "tags": []
   },
   "source": [
    "### New X2"
   ]
  },
  {
   "cell_type": "code",
   "execution_count": 24,
   "id": "b29f4025",
   "metadata": {
    "execution": {
     "iopub.execute_input": "2023-04-02T20:19:20.528002Z",
     "iopub.status.busy": "2023-04-02T20:19:20.527263Z",
     "iopub.status.idle": "2023-04-02T20:19:20.541149Z",
     "shell.execute_reply": "2023-04-02T20:19:20.539757Z"
    },
    "papermill": {
     "duration": 0.038636,
     "end_time": "2023-04-02T20:19:20.544386",
     "exception": false,
     "start_time": "2023-04-02T20:19:20.505750",
     "status": "completed"
    },
    "tags": []
   },
   "outputs": [],
   "source": [
    "x2_means = data.groupby('X2')['y'].mean()\n",
    "g1 = x2_means[x2_means < 85]\n",
    "g2 = x2_means[(x2_means >= 85) & (x2_means < 90)]\n",
    "g3 = x2_means[(x2_means >= 90) & (x2_means < 97.9)]\n",
    "g4 = x2_means[(x2_means >= 97.9) & (x2_means < 110)]\n",
    "g5 = x2_means[(x2_means >= 110) & (x2_means < 116)]\n",
    "g6 = x2_means[(x2_means >= 116) & (x2_means < 130)]\n",
    "g7 = x2_means[x2_means >= 130]"
   ]
  },
  {
   "cell_type": "code",
   "execution_count": 25,
   "id": "f94014a1",
   "metadata": {
    "execution": {
     "iopub.execute_input": "2023-04-02T20:19:20.585123Z",
     "iopub.status.busy": "2023-04-02T20:19:20.584726Z",
     "iopub.status.idle": "2023-04-02T20:19:20.614002Z",
     "shell.execute_reply": "2023-04-02T20:19:20.612594Z"
    },
    "papermill": {
     "duration": 0.053419,
     "end_time": "2023-04-02T20:19:20.617097",
     "exception": false,
     "start_time": "2023-04-02T20:19:20.563678",
     "status": "completed"
    },
    "tags": []
   },
   "outputs": [],
   "source": [
    "def new_x2(x):\n",
    "    if x in g1.index:\n",
    "        return 1\n",
    "    elif x in g2.index:\n",
    "        return 2\n",
    "    elif x in g3.index:\n",
    "        return 3\n",
    "    elif x in g4.index:\n",
    "        return 4\n",
    "    elif x in g5.index:\n",
    "        return 5\n",
    "    elif x in g6.index:\n",
    "        return 6\n",
    "    elif x in g7.index:\n",
    "        return 7\n",
    "    return 0\n",
    "\n",
    "data['X2_der'] = data['X2'].apply(new_x2)"
   ]
  },
  {
   "cell_type": "markdown",
   "id": "44e3ecb8",
   "metadata": {
    "papermill": {
     "duration": 0.018682,
     "end_time": "2023-04-02T20:19:20.655889",
     "exception": false,
     "start_time": "2023-04-02T20:19:20.637207",
     "status": "completed"
    },
    "tags": []
   },
   "source": [
    "### New X3"
   ]
  },
  {
   "cell_type": "code",
   "execution_count": 26,
   "id": "07952b98",
   "metadata": {
    "execution": {
     "iopub.execute_input": "2023-04-02T20:19:20.696790Z",
     "iopub.status.busy": "2023-04-02T20:19:20.696080Z",
     "iopub.status.idle": "2023-04-02T20:19:20.706110Z",
     "shell.execute_reply": "2023-04-02T20:19:20.704862Z"
    },
    "papermill": {
     "duration": 0.033532,
     "end_time": "2023-04-02T20:19:20.708859",
     "exception": false,
     "start_time": "2023-04-02T20:19:20.675327",
     "status": "completed"
    },
    "tags": []
   },
   "outputs": [],
   "source": [
    "x3_means = data.groupby('X3')['y'].mean()\n",
    "g1 = x3_means[x3_means < 100]\n",
    "g2 = x3_means[(x3_means >= 100) & (x3_means < 101)]\n",
    "g3 = x3_means[(x3_means >= 101) & (x3_means < 102)]\n",
    "g4 = x3_means[(x3_means >= 101) & (x3_means < 102)]\n",
    "g5 = x3_means[x3_means >= 102]"
   ]
  },
  {
   "cell_type": "code",
   "execution_count": 27,
   "id": "665e05bc",
   "metadata": {
    "execution": {
     "iopub.execute_input": "2023-04-02T20:19:20.749466Z",
     "iopub.status.busy": "2023-04-02T20:19:20.748639Z",
     "iopub.status.idle": "2023-04-02T20:19:20.772190Z",
     "shell.execute_reply": "2023-04-02T20:19:20.771174Z"
    },
    "papermill": {
     "duration": 0.047074,
     "end_time": "2023-04-02T20:19:20.774803",
     "exception": false,
     "start_time": "2023-04-02T20:19:20.727729",
     "status": "completed"
    },
    "tags": []
   },
   "outputs": [],
   "source": [
    "def new_x3(x):\n",
    "    if x in g1.index:\n",
    "        return 1\n",
    "    elif x in g2.index:\n",
    "        return 2\n",
    "    elif x in g3.index:\n",
    "        return 3\n",
    "    elif x in g4.index:\n",
    "        return 4\n",
    "    elif x in g5.index:\n",
    "        return 5\n",
    "    return 0\n",
    "\n",
    "\n",
    "data['X3_der'] = data['X3'].apply(new_x3)"
   ]
  },
  {
   "cell_type": "markdown",
   "id": "7b9a62ac",
   "metadata": {
    "papermill": {
     "duration": 0.01867,
     "end_time": "2023-04-02T20:19:20.812977",
     "exception": false,
     "start_time": "2023-04-02T20:19:20.794307",
     "status": "completed"
    },
    "tags": []
   },
   "source": [
    "### New X5"
   ]
  },
  {
   "cell_type": "code",
   "execution_count": 28,
   "id": "1fa18e29",
   "metadata": {
    "execution": {
     "iopub.execute_input": "2023-04-02T20:19:20.854249Z",
     "iopub.status.busy": "2023-04-02T20:19:20.853460Z",
     "iopub.status.idle": "2023-04-02T20:19:20.863208Z",
     "shell.execute_reply": "2023-04-02T20:19:20.862189Z"
    },
    "papermill": {
     "duration": 0.033574,
     "end_time": "2023-04-02T20:19:20.865841",
     "exception": false,
     "start_time": "2023-04-02T20:19:20.832267",
     "status": "completed"
    },
    "tags": []
   },
   "outputs": [],
   "source": [
    "x5_means = data.groupby('X5')['y'].mean()\n",
    "g1 = x5_means[x5_means < 80]\n",
    "g2 = x5_means[(x5_means >= 80) & (x5_means < 93)]\n",
    "g3 = x5_means[(x5_means >= 93) & (x5_means < 105)]\n",
    "g4 = x5_means[x5_means >= 105]"
   ]
  },
  {
   "cell_type": "code",
   "execution_count": 29,
   "id": "353e1535",
   "metadata": {
    "execution": {
     "iopub.execute_input": "2023-04-02T20:19:20.908239Z",
     "iopub.status.busy": "2023-04-02T20:19:20.907795Z",
     "iopub.status.idle": "2023-04-02T20:19:20.936476Z",
     "shell.execute_reply": "2023-04-02T20:19:20.934834Z"
    },
    "papermill": {
     "duration": 0.05403,
     "end_time": "2023-04-02T20:19:20.939827",
     "exception": false,
     "start_time": "2023-04-02T20:19:20.885797",
     "status": "completed"
    },
    "tags": []
   },
   "outputs": [],
   "source": [
    "def new_x5(x):\n",
    "    if x in g1.index:\n",
    "        return 1\n",
    "    elif x in g2.index:\n",
    "        return 2\n",
    "    elif x in g3.index:\n",
    "        return 3\n",
    "    elif x in g4.index:\n",
    "        return 4\n",
    "    return 0\n",
    "\n",
    "\n",
    "data['X5_der'] = data['X5'].apply(new_x5)"
   ]
  },
  {
   "cell_type": "markdown",
   "id": "b296f9b7",
   "metadata": {
    "papermill": {
     "duration": 0.019288,
     "end_time": "2023-04-02T20:19:20.979601",
     "exception": false,
     "start_time": "2023-04-02T20:19:20.960313",
     "status": "completed"
    },
    "tags": []
   },
   "source": [
    "### New X6"
   ]
  },
  {
   "cell_type": "code",
   "execution_count": 30,
   "id": "acc36c40",
   "metadata": {
    "execution": {
     "iopub.execute_input": "2023-04-02T20:19:21.021549Z",
     "iopub.status.busy": "2023-04-02T20:19:21.021083Z",
     "iopub.status.idle": "2023-04-02T20:19:21.032753Z",
     "shell.execute_reply": "2023-04-02T20:19:21.031209Z"
    },
    "papermill": {
     "duration": 0.036274,
     "end_time": "2023-04-02T20:19:21.035563",
     "exception": false,
     "start_time": "2023-04-02T20:19:20.999289",
     "status": "completed"
    },
    "tags": []
   },
   "outputs": [],
   "source": [
    "x6_means = data.groupby('X6')['y'].mean()\n",
    "g1 = x6_means[x6_means < 95]\n",
    "g2 = x6_means[(x6_means >= 95) & (x6_means < 100)]\n",
    "g3 = x6_means[(x6_means >= 100) & (x6_means < 104)]\n",
    "g4 = x6_means[x6_means >= 104]"
   ]
  },
  {
   "cell_type": "code",
   "execution_count": 31,
   "id": "18182220",
   "metadata": {
    "execution": {
     "iopub.execute_input": "2023-04-02T20:19:21.077860Z",
     "iopub.status.busy": "2023-04-02T20:19:21.076584Z",
     "iopub.status.idle": "2023-04-02T20:19:21.103150Z",
     "shell.execute_reply": "2023-04-02T20:19:21.101189Z"
    },
    "papermill": {
     "duration": 0.050672,
     "end_time": "2023-04-02T20:19:21.106286",
     "exception": false,
     "start_time": "2023-04-02T20:19:21.055614",
     "status": "completed"
    },
    "tags": []
   },
   "outputs": [],
   "source": [
    "def new_x6(x):\n",
    "    if x in g1.index:\n",
    "        return 1\n",
    "    elif x in g2.index:\n",
    "        return 2\n",
    "    elif x in g3.index:\n",
    "        return 3\n",
    "    elif x in g4.index:\n",
    "        return 4\n",
    "    return 0\n",
    "\n",
    "\n",
    "data['X6_der'] = data['X6'].apply(new_x6)"
   ]
  },
  {
   "cell_type": "markdown",
   "id": "6140ff31",
   "metadata": {
    "papermill": {
     "duration": 0.020591,
     "end_time": "2023-04-02T20:19:21.146295",
     "exception": false,
     "start_time": "2023-04-02T20:19:21.125704",
     "status": "completed"
    },
    "tags": []
   },
   "source": [
    "### New X8"
   ]
  },
  {
   "cell_type": "code",
   "execution_count": 32,
   "id": "9744d813",
   "metadata": {
    "execution": {
     "iopub.execute_input": "2023-04-02T20:19:21.187095Z",
     "iopub.status.busy": "2023-04-02T20:19:21.186658Z",
     "iopub.status.idle": "2023-04-02T20:19:21.197305Z",
     "shell.execute_reply": "2023-04-02T20:19:21.196330Z"
    },
    "papermill": {
     "duration": 0.034446,
     "end_time": "2023-04-02T20:19:21.199964",
     "exception": false,
     "start_time": "2023-04-02T20:19:21.165518",
     "status": "completed"
    },
    "tags": []
   },
   "outputs": [],
   "source": [
    "x8_means = data.groupby('X8')['y'].mean()\n",
    "g1 = x8_means[x8_means < 97]\n",
    "g2 = x8_means[(x8_means >= 97) & (x8_means < 99)]\n",
    "g3 = x8_means[(x8_means >= 99) & (x8_means < 101)]\n",
    "g4 = x8_means[x8_means >= 101]"
   ]
  },
  {
   "cell_type": "code",
   "execution_count": 33,
   "id": "840447fc",
   "metadata": {
    "execution": {
     "iopub.execute_input": "2023-04-02T20:19:21.241909Z",
     "iopub.status.busy": "2023-04-02T20:19:21.241441Z",
     "iopub.status.idle": "2023-04-02T20:19:21.268307Z",
     "shell.execute_reply": "2023-04-02T20:19:21.267151Z"
    },
    "papermill": {
     "duration": 0.051022,
     "end_time": "2023-04-02T20:19:21.271014",
     "exception": false,
     "start_time": "2023-04-02T20:19:21.219992",
     "status": "completed"
    },
    "tags": []
   },
   "outputs": [],
   "source": [
    "def new_x8(x):\n",
    "    if x in g1.index:\n",
    "        return 1\n",
    "    elif x in g2.index:\n",
    "        return 2\n",
    "    elif x in g3.index:\n",
    "        return 3\n",
    "    elif x in g4.index:\n",
    "        return 4\n",
    "    return 0\n",
    "\n",
    "\n",
    "data['X8_der'] = data['X8'].apply(new_x8)"
   ]
  },
  {
   "cell_type": "markdown",
   "id": "fe31ba53",
   "metadata": {
    "papermill": {
     "duration": 0.019646,
     "end_time": "2023-04-02T20:19:21.310169",
     "exception": false,
     "start_time": "2023-04-02T20:19:21.290523",
     "status": "completed"
    },
    "tags": []
   },
   "source": [
    "## Drop unnecessary columns"
   ]
  },
  {
   "cell_type": "code",
   "execution_count": 34,
   "id": "c3d07005",
   "metadata": {
    "execution": {
     "iopub.execute_input": "2023-04-02T20:19:21.351015Z",
     "iopub.status.busy": "2023-04-02T20:19:21.350606Z",
     "iopub.status.idle": "2023-04-02T20:19:21.389712Z",
     "shell.execute_reply": "2023-04-02T20:19:21.388377Z"
    },
    "papermill": {
     "duration": 0.063143,
     "end_time": "2023-04-02T20:19:21.392726",
     "exception": false,
     "start_time": "2023-04-02T20:19:21.329583",
     "status": "completed"
    },
    "tags": []
   },
   "outputs": [],
   "source": [
    "# Drop unnecessary columns\n",
    "data.drop(['ID', 'y', 'X4', 'X0_der'], axis=1, inplace=True) #X0_der causes overfitting"
   ]
  },
  {
   "cell_type": "code",
   "execution_count": 35,
   "id": "6438ab43",
   "metadata": {
    "execution": {
     "iopub.execute_input": "2023-04-02T20:19:21.433071Z",
     "iopub.status.busy": "2023-04-02T20:19:21.432649Z",
     "iopub.status.idle": "2023-04-02T20:19:21.705142Z",
     "shell.execute_reply": "2023-04-02T20:19:21.703834Z"
    },
    "papermill": {
     "duration": 0.296096,
     "end_time": "2023-04-02T20:19:21.708142",
     "exception": false,
     "start_time": "2023-04-02T20:19:21.412046",
     "status": "completed"
    },
    "tags": []
   },
   "outputs": [],
   "source": [
    "from sklearn.preprocessing import OneHotEncoder\n",
    "from sklearn.compose import ColumnTransformer\n",
    "\n",
    "# Define the categorical columns to be one-hot encoded\n",
    "cat_cols = ['X0', 'X1', 'X2', 'X3', 'X5', 'X6', 'X8']\n",
    "\n",
    "# Define the ColumnTransformer object to encode the categorical columns\n",
    "ohe = ColumnTransformer(\n",
    "    [('one_hot_encoder', OneHotEncoder(categories='auto', handle_unknown='ignore', sparse=False), cat_cols)],\n",
    "    remainder='passthrough',\n",
    "    verbose_feature_names_out=False\n",
    ")\n",
    "\n",
    "encoded_data = ohe.fit_transform(data)\n",
    "data = pd.DataFrame(encoded_data, columns=ohe.get_feature_names_out())"
   ]
  },
  {
   "cell_type": "code",
   "execution_count": 36,
   "id": "2b39f054",
   "metadata": {
    "execution": {
     "iopub.execute_input": "2023-04-02T20:19:21.752533Z",
     "iopub.status.busy": "2023-04-02T20:19:21.752117Z",
     "iopub.status.idle": "2023-04-02T20:19:21.758206Z",
     "shell.execute_reply": "2023-04-02T20:19:21.756741Z"
    },
    "papermill": {
     "duration": 0.03145,
     "end_time": "2023-04-02T20:19:21.761048",
     "exception": false,
     "start_time": "2023-04-02T20:19:21.729598",
     "status": "completed"
    },
    "tags": []
   },
   "outputs": [],
   "source": [
    "X_train, X_test = data.loc[:4208], data.loc[4209:]"
   ]
  },
  {
   "cell_type": "markdown",
   "id": "ea593796",
   "metadata": {
    "papermill": {
     "duration": 0.019778,
     "end_time": "2023-04-02T20:19:21.800205",
     "exception": false,
     "start_time": "2023-04-02T20:19:21.780427",
     "status": "completed"
    },
    "tags": []
   },
   "source": [
    "## Feature selection"
   ]
  },
  {
   "cell_type": "code",
   "execution_count": 37,
   "id": "e434d4a3",
   "metadata": {
    "execution": {
     "iopub.execute_input": "2023-04-02T20:19:21.841064Z",
     "iopub.status.busy": "2023-04-02T20:19:21.840658Z",
     "iopub.status.idle": "2023-04-02T20:19:57.375999Z",
     "shell.execute_reply": "2023-04-02T20:19:57.374746Z"
    },
    "papermill": {
     "duration": 35.577954,
     "end_time": "2023-04-02T20:19:57.397713",
     "exception": false,
     "start_time": "2023-04-02T20:19:21.819759",
     "status": "completed"
    },
    "tags": []
   },
   "outputs": [
    {
     "data": {
      "text/plain": [
       "RandomForestRegressor(n_estimators=200, random_state=42)"
      ]
     },
     "execution_count": 37,
     "metadata": {},
     "output_type": "execute_result"
    }
   ],
   "source": [
    "from sklearn.ensemble import RandomForestRegressor\n",
    "\n",
    "rf = RandomForestRegressor(n_estimators=200, random_state=42)\n",
    "rf.fit(X_train, y_train)"
   ]
  },
  {
   "cell_type": "code",
   "execution_count": 38,
   "id": "381dfe9c",
   "metadata": {
    "execution": {
     "iopub.execute_input": "2023-04-02T20:19:57.439053Z",
     "iopub.status.busy": "2023-04-02T20:19:57.438614Z",
     "iopub.status.idle": "2023-04-02T20:19:57.487732Z",
     "shell.execute_reply": "2023-04-02T20:19:57.486748Z"
    },
    "papermill": {
     "duration": 0.072405,
     "end_time": "2023-04-02T20:19:57.490426",
     "exception": false,
     "start_time": "2023-04-02T20:19:57.418021",
     "status": "completed"
    },
    "tags": []
   },
   "outputs": [
    {
     "data": {
      "text/html": [
       "<div>\n",
       "<style scoped>\n",
       "    .dataframe tbody tr th:only-of-type {\n",
       "        vertical-align: middle;\n",
       "    }\n",
       "\n",
       "    .dataframe tbody tr th {\n",
       "        vertical-align: top;\n",
       "    }\n",
       "\n",
       "    .dataframe thead th {\n",
       "        text-align: right;\n",
       "    }\n",
       "</style>\n",
       "<table border=\"1\" class=\"dataframe\">\n",
       "  <thead>\n",
       "    <tr style=\"text-align: right;\">\n",
       "      <th></th>\n",
       "      <th>score</th>\n",
       "    </tr>\n",
       "  </thead>\n",
       "  <tbody>\n",
       "    <tr>\n",
       "      <th>X314</th>\n",
       "      <td>0.375858</td>\n",
       "    </tr>\n",
       "    <tr>\n",
       "      <th>X315</th>\n",
       "      <td>0.073158</td>\n",
       "    </tr>\n",
       "    <tr>\n",
       "      <th>X119</th>\n",
       "      <td>0.029925</td>\n",
       "    </tr>\n",
       "    <tr>\n",
       "      <th>X118</th>\n",
       "      <td>0.024133</td>\n",
       "    </tr>\n",
       "    <tr>\n",
       "      <th>X263</th>\n",
       "      <td>0.018941</td>\n",
       "    </tr>\n",
       "    <tr>\n",
       "      <th>...</th>\n",
       "      <td>...</td>\n",
       "    </tr>\n",
       "    <tr>\n",
       "      <th>X0_an</th>\n",
       "      <td>0.000000</td>\n",
       "    </tr>\n",
       "    <tr>\n",
       "      <th>X289</th>\n",
       "      <td>0.000000</td>\n",
       "    </tr>\n",
       "    <tr>\n",
       "      <th>X2_ax</th>\n",
       "      <td>0.000000</td>\n",
       "    </tr>\n",
       "    <tr>\n",
       "      <th>X235</th>\n",
       "      <td>0.000000</td>\n",
       "    </tr>\n",
       "    <tr>\n",
       "      <th>X233</th>\n",
       "      <td>0.000000</td>\n",
       "    </tr>\n",
       "  </tbody>\n",
       "</table>\n",
       "<p>581 rows × 1 columns</p>\n",
       "</div>"
      ],
      "text/plain": [
       "          score\n",
       "X314   0.375858\n",
       "X315   0.073158\n",
       "X119   0.029925\n",
       "X118   0.024133\n",
       "X263   0.018941\n",
       "...         ...\n",
       "X0_an  0.000000\n",
       "X289   0.000000\n",
       "X2_ax  0.000000\n",
       "X235   0.000000\n",
       "X233   0.000000\n",
       "\n",
       "[581 rows x 1 columns]"
      ]
     },
     "execution_count": 38,
     "metadata": {},
     "output_type": "execute_result"
    }
   ],
   "source": [
    "feature_importance = pd.DataFrame(rf.feature_importances_, index=data.columns, columns=['score']).sort_values(by='score', ascending=False)\n",
    "feature_importance"
   ]
  },
  {
   "cell_type": "code",
   "execution_count": 39,
   "id": "62f4a345",
   "metadata": {
    "execution": {
     "iopub.execute_input": "2023-04-02T20:19:57.532670Z",
     "iopub.status.busy": "2023-04-02T20:19:57.531588Z",
     "iopub.status.idle": "2023-04-02T20:19:57.558974Z",
     "shell.execute_reply": "2023-04-02T20:19:57.557590Z"
    },
    "papermill": {
     "duration": 0.051272,
     "end_time": "2023-04-02T20:19:57.561679",
     "exception": false,
     "start_time": "2023-04-02T20:19:57.510407",
     "status": "completed"
    },
    "tags": []
   },
   "outputs": [],
   "source": [
    "# Remove features with low feature importance scores\n",
    "zero_fi = feature_importance[feature_importance.score < np.quantile(feature_importance.score, 0.2)].index\n",
    "X_train.drop(zero_fi, axis=1, inplace=True)\n",
    "X_test.drop(zero_fi, axis=1, inplace=True)"
   ]
  },
  {
   "cell_type": "markdown",
   "id": "47828e65",
   "metadata": {
    "papermill": {
     "duration": 0.019623,
     "end_time": "2023-04-02T20:19:57.600655",
     "exception": false,
     "start_time": "2023-04-02T20:19:57.581032",
     "status": "completed"
    },
    "tags": []
   },
   "source": [
    "# Fine Tuning Model"
   ]
  },
  {
   "cell_type": "code",
   "execution_count": 40,
   "id": "ce01bb9c",
   "metadata": {
    "execution": {
     "iopub.execute_input": "2023-04-02T20:19:57.641079Z",
     "iopub.status.busy": "2023-04-02T20:19:57.640637Z",
     "iopub.status.idle": "2023-04-02T20:24:33.319259Z",
     "shell.execute_reply": "2023-04-02T20:24:33.317225Z"
    },
    "papermill": {
     "duration": 275.722589,
     "end_time": "2023-04-02T20:24:33.342559",
     "exception": false,
     "start_time": "2023-04-02T20:19:57.619970",
     "status": "completed"
    },
    "tags": []
   },
   "outputs": [
    {
     "data": {
      "text/html": [
       "<style type='text/css'>\n",
       ".datatable table.frame { margin-bottom: 0; }\n",
       ".datatable table.frame thead { border-bottom: none; }\n",
       ".datatable table.frame tr.coltypes td {  color: #FFFFFF;  line-height: 6px;  padding: 0 0.5em;}\n",
       ".datatable .bool    { background: #DDDD99; }\n",
       ".datatable .object  { background: #565656; }\n",
       ".datatable .int     { background: #5D9E5D; }\n",
       ".datatable .float   { background: #4040CC; }\n",
       ".datatable .str     { background: #CC4040; }\n",
       ".datatable .time    { background: #40CC40; }\n",
       ".datatable .row_index {  background: var(--jp-border-color3);  border-right: 1px solid var(--jp-border-color0);  color: var(--jp-ui-font-color3);  font-size: 9px;}\n",
       ".datatable .frame tbody td { text-align: left; }\n",
       ".datatable .frame tr.coltypes .row_index {  background: var(--jp-border-color0);}\n",
       ".datatable th:nth-child(2) { padding-left: 12px; }\n",
       ".datatable .hellipsis {  color: var(--jp-cell-editor-border-color);}\n",
       ".datatable .vellipsis {  background: var(--jp-layout-color0);  color: var(--jp-cell-editor-border-color);}\n",
       ".datatable .na {  color: var(--jp-cell-editor-border-color);  font-size: 80%;}\n",
       ".datatable .sp {  opacity: 0.25;}\n",
       ".datatable .footer { font-size: 9px; }\n",
       ".datatable .frame_dimensions {  background: var(--jp-border-color3);  border-top: 1px solid var(--jp-border-color0);  color: var(--jp-ui-font-color3);  display: inline-block;  opacity: 0.6;  padding: 1px 10px 1px 5px;}\n",
       "</style>\n"
      ],
      "text/plain": [
       "<IPython.core.display.HTML object>"
      ]
     },
     "metadata": {},
     "output_type": "display_data"
    },
    {
     "name": "stdout",
     "output_type": "stream",
     "text": [
      "[LightGBM] [Warning] Unknown parameter: gamma\n",
      "Best parameters:  OrderedDict([('colsample_bytree', 1.0), ('gamma', 3.1749304388518915), ('learning_rate', 0.16933443199909212), ('max_depth', 2), ('min_child_weight', 4.669207450483959), ('n_estimators', 50), ('reg_alpha', 3.1938145684279284), ('reg_lambda', 8.519690348635026), ('subsample', 0.9874303878621155)])\n",
      "Best objective value:  0.5719597368143358\n"
     ]
    }
   ],
   "source": [
    "from lightgbm import LGBMRegressor\n",
    "from skopt import BayesSearchCV\n",
    "from skopt.space import Real, Integer\n",
    "\n",
    "# Define the search space for hyperparameters\n",
    "search_space = {\n",
    "    'n_estimators': Integer(50, 500),\n",
    "    'max_depth': Integer(2, 20),\n",
    "    'learning_rate': Real(0.01, 1.0),\n",
    "    'subsample': Real(0.1, 1.0),\n",
    "    'colsample_bytree': Real(0.1, 1.0),\n",
    "    'reg_alpha': Real(0.0, 10.0),\n",
    "    'reg_lambda': Real(0.0, 10.0),\n",
    "    'gamma': Real(0.0, 10.0),\n",
    "    'min_child_weight': Real(0.1, 10.0),\n",
    "}\n",
    "\n",
    "# Define the XGBRegressor\n",
    "xgb = LGBMRegressor(random_state=42)\n",
    "\n",
    "# Define the Bayesian optimizer with cross-validation\n",
    "optimizer = BayesSearchCV(\n",
    "    estimator=xgb,\n",
    "    search_spaces=search_space,\n",
    "    cv=5,\n",
    "    n_jobs=-1\n",
    ")\n",
    "\n",
    "# Fit the optimizer to the training data\n",
    "optimizer.fit(X_train, y_train)\n",
    "\n",
    "# Predict on the test data with the best hyperparameters\n",
    "y_pred = optimizer.predict(X_test)\n",
    "\n",
    "# Print the best hyperparameters and objective value found\n",
    "print(\"Best parameters: \", optimizer.best_params_)\n",
    "print(\"Best objective value: \", optimizer.best_score_)"
   ]
  },
  {
   "cell_type": "code",
   "execution_count": 41,
   "id": "f34ee6e1",
   "metadata": {
    "execution": {
     "iopub.execute_input": "2023-04-02T20:24:33.385806Z",
     "iopub.status.busy": "2023-04-02T20:24:33.384375Z",
     "iopub.status.idle": "2023-04-02T20:24:33.407848Z",
     "shell.execute_reply": "2023-04-02T20:24:33.406855Z"
    },
    "papermill": {
     "duration": 0.047976,
     "end_time": "2023-04-02T20:24:33.410644",
     "exception": false,
     "start_time": "2023-04-02T20:24:33.362668",
     "status": "completed"
    },
    "tags": []
   },
   "outputs": [],
   "source": [
    "# Create a dictionary to hold the ID and predicted y\n",
    "submission_dict = {'ID': test['ID'], 'y': y_pred}\n",
    "\n",
    "# Convert the dictionary to a pandas DataFrame\n",
    "submission = pd.DataFrame(submission_dict)\n",
    "\n",
    "# Save the DataFrame to a CSV file without including the index\n",
    "submission.to_csv('submission.csv', index=False)"
   ]
  }
 ],
 "metadata": {
  "kernelspec": {
   "display_name": "Python 3",
   "language": "python",
   "name": "python3"
  },
  "language_info": {
   "codemirror_mode": {
    "name": "ipython",
    "version": 3
   },
   "file_extension": ".py",
   "mimetype": "text/x-python",
   "name": "python",
   "nbconvert_exporter": "python",
   "pygments_lexer": "ipython3",
   "version": "3.7.12"
  },
  "papermill": {
   "default_parameters": {},
   "duration": 337.489084,
   "end_time": "2023-04-02T20:24:36.055367",
   "environment_variables": {},
   "exception": null,
   "input_path": "__notebook__.ipynb",
   "output_path": "__notebook__.ipynb",
   "parameters": {},
   "start_time": "2023-04-02T20:18:58.566283",
   "version": "2.4.0"
  }
 },
 "nbformat": 4,
 "nbformat_minor": 5
}
